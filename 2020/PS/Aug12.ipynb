{
 "cells": [
  {
   "cell_type": "markdown",
   "metadata": {},
   "source": [
    "https://www.acmicpc.net/problem/1260"
   ]
  },
  {
   "cell_type": "code",
   "execution_count": 11,
   "metadata": {},
   "outputs": [
    {
     "name": "stdout",
     "output_type": "stream",
     "text": [
      "4 5 1\n",
      "1 2\n",
      "1 3\n",
      "1 4\n",
      "2 4\n",
      "3 4\n",
      "1 2 4 3 \n",
      "1 2 3 4 "
     ]
    }
   ],
   "source": [
    "n, m, v = map(int, input().split())\n",
    "\n",
    "data = {}\n",
    "for i in range(m):\n",
    "    input_ = list(map(int, input().split()))\n",
    "    if input_[0] not in data:\n",
    "        data[input_[0]] = [input_[1]]\n",
    "    else:\n",
    "        data[input_[0]].append(input_[1])\n",
    "        \n",
    "    if input_[1] not in data:\n",
    "        data[input_[1]] = [input_[0]]\n",
    "    else:\n",
    "        data[input_[1]].append(input_[0])\n",
    "\n",
    "for i in data:\n",
    "    data[i].sort(reverse = True)\n",
    "    \n",
    "def DFS(graph, start_node):\n",
    "    stack = [start_node]\n",
    "    visited = []\n",
    "    \n",
    "    while stack:\n",
    "        node = stack.pop()\n",
    "        if node not in visited:\n",
    "            print(node, end = ' ')\n",
    "            visited.append(node)\n",
    "            stack.extend(graph[node])\n",
    "    return visited\n",
    "\n",
    "DFS(data, v)\n",
    "print()\n",
    "\n",
    "for i in data:\n",
    "    data[i].sort()\n",
    "    \n",
    "def BFS(graph, start_node):\n",
    "    stack = [start_node]\n",
    "    visited = []\n",
    "    \n",
    "    while stack:\n",
    "        node = stack.pop(0)\n",
    "        if node not in visited:\n",
    "            print(node, end = ' ')\n",
    "            visited.append(node)\n",
    "            stack.extend(graph[node])\n",
    "\n",
    "BFS(data, v)\n",
    "    \n",
    "## 아... 런타임 에러 ㅠㅠ"
   ]
  },
  {
   "cell_type": "code",
   "execution_count": 12,
   "metadata": {},
   "outputs": [
    {
     "name": "stdout",
     "output_type": "stream",
     "text": [
      "4 5 1\n",
      "1 2\n",
      "1 3\n",
      " 1 4\n",
      "2 4\n",
      "3 4\n",
      "1 2 4 3 \n",
      "1 2 3 4 "
     ]
    }
   ],
   "source": [
    "def dfs(v):\n",
    "    print(v, end=' ')\n",
    "    visit[v] = 1\n",
    "    for i in range(1, n + 1):\n",
    "        if visit[i] == 0 and s[v][i] == 1:\n",
    "            dfs(i)\n",
    "\n",
    "def bfs(v):\n",
    "    queue = [v]\n",
    "    visit[v] = 0\n",
    "    while(queue):\n",
    "        v = queue[0]\n",
    "        print(v, end=' ')\n",
    "        del queue[0]\n",
    "        for i in range(1, n + 1):\n",
    "            if visit[i] == 1 and s[v][i] == 1:\n",
    "                queue.append(i)\n",
    "                visit[i] = 0\n",
    "\n",
    "n, m, v = map(int, input().split())\n",
    "s = [[0] * (n + 1) for i in range(n + 1)]\n",
    "visit = [0 for i in range(n + 1)]\n",
    "for i in range(m):\n",
    "    x, y = map(int, input().split())\n",
    "    s[x][y] = 1\n",
    "    s[y][x] = 1\n",
    "    \n",
    "dfs(v)\n",
    "print()\n",
    "bfs(v)"
   ]
  },
  {
   "cell_type": "markdown",
   "metadata": {},
   "source": [
    "https://j-remind.tistory.com/52"
   ]
  },
  {
   "cell_type": "code",
   "execution_count": null,
   "metadata": {},
   "outputs": [],
   "source": [
    "n, m = map(int, input().split())\n",
    "s = []\n",
    "queue = []\n",
    "dx = [1, -1, 0, 0]\n",
    "dy = [0, 0, -1, 1]\n",
    "for i in range(n):\n",
    "    s.append(list(input()))\n",
    "queue = [[0, 0]]\n",
    "s[0][0] = 1\n",
    "while queue:\n",
    "    a, b = queue[0][0], queue[0][1]\n",
    "    del queue[0]\n",
    "    for i in range(4):\n",
    "        x = a + dx[i]\n",
    "        y = b + dy[i]\n",
    "        if 0 <= x < n and 0 <= y < m and s[x][y] == \"1\":\n",
    "            queue.append([x, y])\n",
    "            s[x][y] = s[a][b] + 1\n",
    "print(s[n - 1][m - 1])"
   ]
  },
  {
   "cell_type": "markdown",
   "metadata": {},
   "source": [
    "https://www.acmicpc.net/problem/1920"
   ]
  },
  {
   "cell_type": "code",
   "execution_count": null,
   "metadata": {},
   "outputs": [],
   "source": [
    "n = int(input())\n",
    "d = list(map(int, input().split()))\n",
    "m = int(input())\n",
    "s = list(map(int, input().split()))\n",
    "\n",
    "for i in s:\n",
    "    if i in d:\n",
    "        print(1)\n",
    "    else:\n",
    "        print(0)"
   ]
  },
  {
   "cell_type": "markdown",
   "metadata": {},
   "source": [
    "https://www.acmicpc.net/problem/10816"
   ]
  },
  {
   "cell_type": "code",
   "execution_count": 23,
   "metadata": {},
   "outputs": [],
   "source": [
    "import sys\n",
    "n = map(int, sys.stdin.readline())\n",
    "keylist = list(map(int, sys.stdin.readline().split()))\n",
    "for k in keylist:\n",
    "    if k not in pool:\n",
    "        pool[k] = 1\n",
    "    else:\n",
    "        pool[k] += 1\n",
    "m = map(int, sys.stdin.readline())\n",
    "target = list(map(int, sys.stdin.readline().split()))\n",
    "\n",
    "for t in target:\n",
    "    if t in pool:\n",
    "        sys.stdout.write(str(pool[t]) + ' ')\n",
    "    else:\n",
    "        sys.stdout.write('0 ')"
   ]
  },
  {
   "cell_type": "code",
   "execution_count": null,
   "metadata": {},
   "outputs": [],
   "source": []
  },
  {
   "cell_type": "code",
   "execution_count": null,
   "metadata": {},
   "outputs": [],
   "source": []
  },
  {
   "cell_type": "code",
   "execution_count": null,
   "metadata": {},
   "outputs": [],
   "source": []
  },
  {
   "cell_type": "code",
   "execution_count": null,
   "metadata": {},
   "outputs": [],
   "source": []
  }
 ],
 "metadata": {
  "kernelspec": {
   "display_name": "Python 3",
   "language": "python",
   "name": "python3"
  },
  "language_info": {
   "codemirror_mode": {
    "name": "ipython",
    "version": 3
   },
   "file_extension": ".py",
   "mimetype": "text/x-python",
   "name": "python",
   "nbconvert_exporter": "python",
   "pygments_lexer": "ipython3",
   "version": "3.7.6"
  }
 },
 "nbformat": 4,
 "nbformat_minor": 4
}
