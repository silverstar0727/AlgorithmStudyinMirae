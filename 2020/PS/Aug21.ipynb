{
 "cells": [
  {
   "cell_type": "markdown",
   "metadata": {},
   "source": [
    "https://www.acmicpc.net/problem/1463"
   ]
  },
  {
   "cell_type": "code",
   "execution_count": 22,
   "metadata": {},
   "outputs": [
    {
     "name": "stdout",
     "output_type": "stream",
     "text": [
      "10\n",
      "{1: 0, 2: 1, 3: 1, 4: 2, 5: 3, 6: 2, 7: 3, 8: 3, 9: 2, 10: 3}\n"
     ]
    }
   ],
   "source": [
    "n = int(input())\n",
    "dp = {1: 0, 2: 1, 3: 1}\n",
    "\n",
    "for i in range(3, n + 1):\n",
    "    if (i % 2 == 0) and (i % 3 == 0): # 둘다됨\n",
    "        dp[i] = min(dp[i-1] + 1, dp[i/2] + 1, dp[i/3] + 1)\n",
    "    elif i % 2 == 0 and i % 3 != 0: # 2만됨\n",
    "        dp[i] = min(dp[i-1] + 1, dp[i/2] + 1)\n",
    "    elif i % 2 != 0 and i % 3 != 0: # 둘다 안됨\n",
    "        dp[i] = dp[i-1] + 1\n",
    "    else: # 3만됨\n",
    "        dp[i] = min(dp[i-1] + 1, dp[i/3] + 1)\n",
    "        \n",
    "print(dp[n])"
   ]
  },
  {
   "cell_type": "markdown",
   "metadata": {},
   "source": [
    "https://www.acmicpc.net/problem/10844"
   ]
  },
  {
   "cell_type": "code",
   "execution_count": 37,
   "metadata": {},
   "outputs": [
    {
     "name": "stdout",
     "output_type": "stream",
     "text": [
      "2\n",
      "17\n"
     ]
    }
   ],
   "source": [
    "# 내풀이 메모리초과ㅣ... 일일이 저장하지 말기\n",
    "n = int(input())\n",
    "\n",
    "count = 0\n",
    "for k in range(1, 10):\n",
    "    num_dict = {1: [k]}\n",
    "    for i in range(2, n + 1):\n",
    "        num_dict[i] = []\n",
    "        for j in num_dict[i-1]:\n",
    "            if j+1 <= 9:\n",
    "                count += 1\n",
    "            if j-1 >= 0:\n",
    "                count += 1\n",
    "    \n",
    "print(count)"
   ]
  },
  {
   "cell_type": "code",
   "execution_count": null,
   "metadata": {},
   "outputs": [],
   "source": [
    "N = int(input())\n",
    "\n",
    "num_list = [1] * 10 # 0 ~ 9\n",
    "num_list[0] = 0 # 0은 숫자가 아니므로\n",
    "\n",
    "for i in range(1, N):\n",
    "        temp = [0] * 10\n",
    "        for j in range(10):\n",
    "            if(j == 0): # 10, 101 과 같은 경우\n",
    "                temp[1] += num_list[j] # 1이 나올 횟수\n",
    "            elif(j == 9):\n",
    "                temp[8] += num_list[j] # 8이 나올 횟수\n",
    "            else:\n",
    "                temp[j - 1] += num_list[j] # N이 2인 경우에, 첫자리가 1일 떄 0, 2 ; 2일 때 1, 3 이런 경우\n",
    "                temp[j + 1] += num_list[j]\n",
    "\n",
    "        num_list = temp\n",
    "print(sum(num_list) % 1000000000)"
   ]
  },
  {
   "cell_type": "markdown",
   "metadata": {},
   "source": [
    "https://www.acmicpc.net/problem/2156"
   ]
  },
  {
   "cell_type": "code",
   "execution_count": 13,
   "metadata": {},
   "outputs": [
    {
     "name": "stdout",
     "output_type": "stream",
     "text": [
      "6\n",
      "6\n",
      "10\n",
      "13\n",
      "9\n",
      "81\n",
      "1\n",
      "106\n"
     ]
    }
   ],
   "source": [
    "n = int(input())\n",
    "wine_list = [int(input()) for x in range(n)]\n",
    "\n",
    "dp = [0]\n",
    "dp.append(wine_list[0])\n",
    "if(n > 1):\n",
    "    dp.append(wine_list[0] + wine_list[1])\n",
    "\n",
    "# 연속 3잔을 마시지 않아야 하므로\n",
    "# 1 : 이번 포도주를 먹고 이전 포도주를 먹지 않은 경우\n",
    "# 2 : 이번 포도주를 먹고 이전 포도주도 먹은 경우\n",
    "# 3 : 이번 포도주를 먹지 않아야 하는 경우\n",
    "# 위 세가지 경우를 고려하여 max\n",
    "\n",
    "for i in range(3, n + 1):\n",
    "    # wine_list는 0부터 시작하므로 i - 1로 해준다.\n",
    "    case_1 = wine_list[i - 1] + dp[i - 2]\n",
    "    case_2 = wine_list[i - 1] + wine_list[i - 2] + dp[i - 3]\n",
    "    case_3 = dp[i - 1]\n",
    "    max_value = max(case_1, case_2, case_3)\n",
    "    \n",
    "    dp.append(max_value)\n",
    "    \n",
    "print(dp[n])"
   ]
  },
  {
   "cell_type": "markdown",
   "metadata": {},
   "source": [
    "https://www.acmicpc.net/problem/2293"
   ]
  },
  {
   "cell_type": "code",
   "execution_count": null,
   "metadata": {},
   "outputs": [],
   "source": [
    "n, k = map(int, input().split())\n",
    "data = [int(input()) for i in range(n)]\n",
    "num = [0 for i in range(k + 1)]\n",
    "num[0] = 1\n",
    "\n",
    "for i in data:\n",
    "    for j in range(i, k + 1):\n",
    "        if j - i >= 0:\n",
    "            num[j] += num[j - i]\n",
    "print(num[-1])"
   ]
  }
 ],
 "metadata": {
  "kernelspec": {
   "display_name": "Python 3",
   "language": "python",
   "name": "python3"
  },
  "language_info": {
   "codemirror_mode": {
    "name": "ipython",
    "version": 3
   },
   "file_extension": ".py",
   "mimetype": "text/x-python",
   "name": "python",
   "nbconvert_exporter": "python",
   "pygments_lexer": "ipython3",
   "version": "3.7.6"
  }
 },
 "nbformat": 4,
 "nbformat_minor": 4
}
