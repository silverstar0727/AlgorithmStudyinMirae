{
 "cells": [
  {
   "cell_type": "code",
   "execution_count": 17,
   "metadata": {},
   "outputs": [
    {
     "name": "stdout",
     "output_type": "stream",
     "text": [
      "7\n",
      "3 1 1 7 4 9 3\n"
     ]
    }
   ],
   "source": [
    "n = int(input())\n",
    "data = list(map(int, input().split()))\n",
    "\n",
    "graph = {0: {1: data[0], 2:data[1], 3:data[2]}}\n",
    "for i in range(1, n-2):\n",
    "    graph[i] = {i+1: data[i], i + 2: data[i+1], i + 3: data[i+2]}\n",
    "graph[n-2] = {n-1: data[n-2], n: data[n - 1], n + 1: 0}\n",
    "graph[n-1] = {n: data[n-1], n+1: 0}\n",
    "graph[n] =  {n + 1: 0}\n",
    "graph[n+1] = {}\n",
    "\n",
    "import heapq\n",
    "\n",
    "def dijkstra(graph, start):\n",
    "    \n",
    "    distances = {node: float('inf') for node in graph}\n",
    "    distances[start] = 0\n",
    "    queue = []\n",
    "    heapq.heappush(queue, [distances[start], start])\n",
    "    \n",
    "    while queue:\n",
    "        current_distance, current_node = heapq.heappop(queue)\n",
    "        \n",
    "        if distances[current_node] < current_distance:\n",
    "            continue\n",
    "            \n",
    "        for adjacent, weight in graph[current_node].items():\n",
    "            distance = current_distance + weight\n",
    "            \n",
    "            if distance < distances[adjacent]:\n",
    "                distances[adjacent] = distance\n",
    "                heapq.heappush(queue, [distance, adjacent])\n",
    "                \n",
    "    return distances\n",
    "\n",
    "print(dijkstra(graph, 0)[n+1])"
   ]
  },
  {
   "cell_type": "code",
   "execution_count": null,
   "metadata": {},
   "outputs": [],
   "source": []
  },
  {
   "cell_type": "code",
   "execution_count": null,
   "metadata": {},
   "outputs": [],
   "source": []
  },
  {
   "cell_type": "code",
   "execution_count": null,
   "metadata": {},
   "outputs": [],
   "source": []
  },
  {
   "cell_type": "code",
   "execution_count": null,
   "metadata": {},
   "outputs": [],
   "source": []
  },
  {
   "cell_type": "code",
   "execution_count": null,
   "metadata": {},
   "outputs": [],
   "source": []
  },
  {
   "cell_type": "code",
   "execution_count": null,
   "metadata": {},
   "outputs": [],
   "source": []
  },
  {
   "cell_type": "code",
   "execution_count": 27,
   "metadata": {},
   "outputs": [
    {
     "name": "stdout",
     "output_type": "stream",
     "text": [
      "5 10\n",
      "1 4 7 11 17\n"
     ]
    },
    {
     "data": {
      "text/plain": [
       "{0: 0, 1: 9, 2: 6, 3: 3, 4: 1, 5: 7}"
      ]
     },
     "execution_count": 27,
     "metadata": {},
     "output_type": "execute_result"
    }
   ],
   "source": [
    "# 다익스트라\n",
    "n, x = map(int, input().split())\n",
    "data = list(map(int, input().split()))\n",
    "\n",
    "graph = {}\n",
    "for i in range(n + 1):\n",
    "    graph[i] = {}\n",
    "\n",
    "for i in range(1, n+1):\n",
    "\tgraph[0][i] = abs(data[i-1] - x)\n",
    "\tfor j in range(1, n+1):\n",
    "\t\tif i != j:\n",
    "\t\t\tgraph[i][j] = abs(data[i-1] - data[j-1])\n",
    "\n",
    "import heapq\n",
    "\n",
    "def dijkstra(graph, start):\n",
    "    \n",
    "    distances = {node: float('inf') for node in graph}\n",
    "    distances[start] = 0\n",
    "    queue = []\n",
    "    heapq.heappush(queue, [distances[start], start])\n",
    "    \n",
    "    while queue:\n",
    "        current_distance, current_node = heapq.heappop(queue)\n",
    "        \n",
    "        if distances[current_node] < current_distance:\n",
    "            continue\n",
    "            \n",
    "        for adjacent, weight in graph[current_node].items():\n",
    "            distance = current_distance + weight\n",
    "            \n",
    "            if distance < distances[adjacent]:\n",
    "                distances[adjacent] = distance\n",
    "                heapq.heappush(queue, [distance, adjacent])\n",
    "                \n",
    "    return distances\n",
    "\n",
    "dijkstra(graph, 0)"
   ]
  },
  {
   "cell_type": "code",
   "execution_count": 29,
   "metadata": {},
   "outputs": [
    {
     "name": "stdout",
     "output_type": "stream",
     "text": [
      "9 2\n",
      "ABCCBCCDA\n"
     ]
    },
    {
     "ename": "IndexError",
     "evalue": "list index out of range",
     "output_type": "error",
     "traceback": [
      "\u001b[1;31m---------------------------------------------------------------------------\u001b[0m",
      "\u001b[1;31mIndexError\u001b[0m                                Traceback (most recent call last)",
      "\u001b[1;32m<ipython-input-29-50c988d8d8a0>\u001b[0m in \u001b[0;36m<module>\u001b[1;34m\u001b[0m\n\u001b[0;32m     16\u001b[0m     \u001b[1;32mfor\u001b[0m \u001b[0mi\u001b[0m \u001b[1;32min\u001b[0m \u001b[0mrange\u001b[0m\u001b[1;33m(\u001b[0m\u001b[1;36m1\u001b[0m\u001b[1;33m,\u001b[0m \u001b[0mn\u001b[0m\u001b[1;33m)\u001b[0m\u001b[1;33m:\u001b[0m\u001b[1;33m\u001b[0m\u001b[1;33m\u001b[0m\u001b[0m\n\u001b[0;32m     17\u001b[0m \u001b[1;33m\u001b[0m\u001b[0m\n\u001b[1;32m---> 18\u001b[1;33m         \u001b[1;32mif\u001b[0m \u001b[0mdata\u001b[0m\u001b[1;33m[\u001b[0m\u001b[0mi\u001b[0m\u001b[1;33m]\u001b[0m \u001b[1;33m==\u001b[0m \u001b[0mfix\u001b[0m\u001b[1;33m:\u001b[0m\u001b[1;33m\u001b[0m\u001b[1;33m\u001b[0m\u001b[0m\n\u001b[0m\u001b[0;32m     19\u001b[0m             \u001b[0mcount\u001b[0m \u001b[1;33m+=\u001b[0m \u001b[1;36m1\u001b[0m\u001b[1;33m\u001b[0m\u001b[1;33m\u001b[0m\u001b[0m\n\u001b[0;32m     20\u001b[0m             \u001b[1;32mif\u001b[0m \u001b[0mcount\u001b[0m \u001b[1;33m==\u001b[0m \u001b[0mm\u001b[0m\u001b[1;33m:\u001b[0m\u001b[1;33m\u001b[0m\u001b[1;33m\u001b[0m\u001b[0m\n",
      "\u001b[1;31mIndexError\u001b[0m: list index out of range"
     ]
    }
   ],
   "source": [
    "n, m = map(int, input().split())\n",
    "data = list(input())\n",
    "\n",
    "\n",
    "while True:\n",
    "    if data == []:\n",
    "        print('CLEAR!')\n",
    "        break\n",
    "    \n",
    "    fix = data[0]\n",
    "    count = 0\n",
    "    i = 1\n",
    "    data_ = data.copy()\n",
    "    \n",
    "    # 없애는 작업\n",
    "    for i in range(1, n):\n",
    "        \n",
    "        if data[i] == fix:\n",
    "            count += 1\n",
    "            if count == m:\n",
    "                data = data[i-m+1:i+1]\n",
    "                count = 0\n",
    "                break\n",
    "                \n",
    "        else:\n",
    "            fix = data[i]\n",
    "            \n",
    "    if data_ == data:\n",
    "        for i in range(data):\n",
    "            print(data[i], end = '')\n",
    "        break"
   ]
  },
  {
   "cell_type": "code",
   "execution_count": 33,
   "metadata": {},
   "outputs": [
    {
     "name": "stdout",
     "output_type": "stream",
     "text": [
      "5\n",
      "0.000 0.000\n",
      "1.000 1.000\n",
      "2.000 0.000\n",
      "3.000 1.500\n",
      "2.235 2.483\n",
      "LEFT\n",
      "LEFT\n"
     ]
    }
   ],
   "source": [
    "n = int(input())\n",
    "data = []\n",
    "for i in range(n):\n",
    "    data.append(list(map(float, input().split())))\n",
    "\n",
    "for i in range(2, n):\n",
    "    if (data[i-1][1] / data[i-1][0]) > data[i][1] / data[i][0]:\n",
    "        print('RIGHT')\n",
    "    else:\n",
    "        print('LEFT')"
   ]
  },
  {
   "cell_type": "code",
   "execution_count": 43,
   "metadata": {},
   "outputs": [
    {
     "name": "stdout",
     "output_type": "stream",
     "text": [
      "LEFT\n",
      "1 1.9508882310775026\n",
      "RIGHT\n",
      "1.9508882310775026 1.0573948551850836\n",
      "RIGHT\n",
      "1.0573948551850836 -1.993354482102792\n",
      "LEFT\n",
      "-1.993354482102792 0.04641007166963711\n",
      "RIGHT\n",
      "0.04641007166963711 -0.1623890283371264\n",
      "LEFT\n",
      "-0.1623890283371264 13.47547043010753\n",
      "RIGHT\n",
      "13.47547043010753 3.9529330062614103\n",
      "RIGHT\n",
      "3.9529330062614103 -26.057214335507158\n"
     ]
    }
   ],
   "source": [
    "n = 10\n",
    "data = [[0.000, 0.000],\n",
    "    [1.000, 1.000],\n",
    "    [270.243, 526.263],\n",
    "    [499.950, 769.154],\n",
    "    [769.154, 232.535],\n",
    "    [1428.429, 263.132],\n",
    "    [249.975, 454.500],\n",
    "    [238.071, 294.088],\n",
    "    [416.625, 999.900],\n",
    "    [263.132, 4999.500]]\n",
    "\n",
    "prev = 1\n",
    "for i in range(2, n):\n",
    "    current = (data[i][1] - data[i-1][1]) / (data[i][0] - data[i-1][0])\n",
    "    if current < prev:\n",
    "        print('RIGHT')\n",
    "    else:\n",
    "        print('LEFT')\n",
    "        \n",
    "    print(prev, current)\n",
    "    prev = current"
   ]
  },
  {
   "cell_type": "code",
   "execution_count": null,
   "metadata": {},
   "outputs": [],
   "source": []
  },
  {
   "cell_type": "code",
   "execution_count": null,
   "metadata": {},
   "outputs": [],
   "source": []
  },
  {
   "cell_type": "code",
   "execution_count": null,
   "metadata": {},
   "outputs": [],
   "source": []
  },
  {
   "cell_type": "code",
   "execution_count": 1,
   "metadata": {},
   "outputs": [
    {
     "name": "stdout",
     "output_type": "stream",
     "text": [
      "32323\n",
      "□□□■■□□□■■□□□\n",
      "24142\n",
      "□□■■■■□■■■■□□\n",
      "1223221\n",
      "□■■□□■■■□□■■□\n",
      "1231321\n",
      "□■■□□□■□□□■■□\n",
      "22522\n",
      "□□■■□□□□□■■□□\n",
      "32323\n",
      "□□□■■□□□■■□□□\n",
      "42124\n",
      "□□□□■■□■■□□□□\n",
      "535\n",
      "□□□□□■■■□□□□□\n",
      "616\n",
      "□□□□□□■□□□□□□\n",
      "0\n"
     ]
    }
   ],
   "source": [
    "while True:\n",
    "    data = list(map(int, list(input())))\n",
    "    if data[0] == 0:\n",
    "        break\n",
    "        \n",
    "    for i in range(len(data)):\n",
    "        if i % 2 != 1:\n",
    "            for j in range(data[i]):\n",
    "                print('□', end = '')\n",
    "        else:\n",
    "            for j in range(data[i]):\n",
    "                print('■', end = '')\n",
    "    print()"
   ]
  },
  {
   "cell_type": "code",
   "execution_count": null,
   "metadata": {},
   "outputs": [],
   "source": [
    "data = list(map(int, input().split()))\n",
    "data.sort()\n",
    "\n",
    "num = data[0]\n",
    "for i in range(1, 20):\n",
    "    x = data[i] // num\n",
    "    for j in range(1, x+1):\n",
    "        num*j\n",
    "\n",
    "\n",
    "for i in range(data[0], dat):\n",
    "    if num % data[1] == 0:"
   ]
  },
  {
   "cell_type": "code",
   "execution_count": 6,
   "metadata": {},
   "outputs": [
    {
     "name": "stdout",
     "output_type": "stream",
     "text": [
      "1 2 3 4 5 6 7 8 9 10 11 12 13 14 15 16 17 18 19 20\n",
      "232792560\n"
     ]
    }
   ],
   "source": [
    "from math import gcd\n",
    "\n",
    "data = list(map(int, input().split()))\n",
    "data.sort()\n",
    "\n",
    "def sol(arr):\n",
    "    def f(x, y):\n",
    "        return x * y // gcd(x, y)\n",
    "    while True:\n",
    "        arr.append(f(arr.pop(), arr.pop()))\n",
    "        if len(arr) == 1:\n",
    "            return arr[0]\n",
    "        \n",
    "print(sol(data))"
   ]
  },
  {
   "cell_type": "code",
   "execution_count": 27,
   "metadata": {
    "scrolled": true
   },
   "outputs": [
    {
     "name": "stdout",
     "output_type": "stream",
     "text": [
      "5\n",
      "79\n",
      "51\n",
      "100\n",
      "18\n",
      "8\n",
      "73\n"
     ]
    }
   ],
   "source": [
    "n = int(input())\n",
    "data = [list(map(int, list(input()))) for _ in range(n)]\n",
    "\n",
    "res = []\n",
    "for i in range(len(data)):\n",
    "    s = 0\n",
    "    for j in range(len(data[i])):\n",
    "        if data[i][j] in [1, 7]:\n",
    "            data[i][j] = 9\n",
    "        \n",
    "        s += data[i][j] * (10 ** (len(data[i]) - j - 1))\n",
    "    if s > 100:\n",
    "        s = 100\n",
    "    res.append(s)\n",
    "    \n",
    "ans = sum(res)/n\n",
    "x = ans - int(ans)\n",
    "if x >= 0.5:\n",
    "    print(int(ans) + 1)\n",
    "else:\n",
    "    print(int(ans))"
   ]
  },
  {
   "cell_type": "code",
   "execution_count": 70,
   "metadata": {},
   "outputs": [
    {
     "name": "stdout",
     "output_type": "stream",
     "text": [
      "  0  1  2  3-14\n",
      " 11 12 13  4-13\n",
      " 10 15 14  5-12\n",
      "  9  8  7  6-11\n"
     ]
    }
   ],
   "source": [
    "n = 4\n",
    "m = 5\n",
    " \n",
    "for y in range(0, n):\n",
    "    for x in range(0, m):\n",
    "        p = min(x,y,n-x-1,n-y-1)\n",
    "        if x>=y:\n",
    "            q = x+y - 2*p\n",
    "        else:\n",
    "            q = (n-1 - 2*p)*4 - (x+y - 2*p)\n",
    "        q += 4 * (p*n - (p*p))\n",
    "        print(\"{:3d}\".format(q), end=\"\")\n",
    "    print()"
   ]
  },
  {
   "cell_type": "code",
   "execution_count": null,
   "metadata": {},
   "outputs": [],
   "source": [
    "for y in range(0, n):\n",
    "    for x in range(0, m):\n",
    "        "
   ]
  },
  {
   "cell_type": "code",
   "execution_count": 78,
   "metadata": {},
   "outputs": [
    {
     "name": "stdout",
     "output_type": "stream",
     "text": [
      "4\n",
      "2\n",
      "2 1 1 0 "
     ]
    }
   ],
   "source": [
    "def dyn_fib(n): \n",
    "    val = [0, 1] \n",
    "    if n < 2: \n",
    "        return val[n] \n",
    "    else: \n",
    "        for i in range(2, n+1): \n",
    "            val.append(val[i-1] + val[i-2]) \n",
    "        return val \n",
    "    \n",
    "N = int(input())\n",
    "res = dyn_fib(N-1)\n",
    "print(max(res))\n",
    "for i in range(len(res)-1, -1, -1):\n",
    "    print(res[i], end = ' ')"
   ]
  },
  {
   "cell_type": "code",
   "execution_count": null,
   "metadata": {},
   "outputs": [],
   "source": []
  },
  {
   "cell_type": "code",
   "execution_count": 84,
   "metadata": {},
   "outputs": [],
   "source": [
    "from itertools import cycle\n",
    "\n",
    "def spiral(m, n):\n",
    "    size = m * n\n",
    "    matrix = [''] * size \n",
    "    matrix[:m] = list(range(m)) \n",
    "    idx = m - 1; s = idx; p = idx\n",
    "    pattern = [m, -1, -m, 1]\n",
    "    for pat in cycle(pattern):\n",
    "        while True:\n",
    "            p += pat; s += 1\n",
    "            if p < size and matrix[p] == '':\n",
    "                matrix[p] = s\n",
    "            else:\n",
    "                p -= pat; s -= 1\n",
    "                break\n",
    "        if '' not in matrix:\n",
    "            return matrix\n",
    "\n",
    "def main(m, n):\n",
    "    for i, a in enumerate(spiral(m, n), 1):\n",
    "        print('{:3d}'.format(a), end=' ')\n",
    "        if i % m == 0:\n",
    "            print()"
   ]
  },
  {
   "cell_type": "code",
   "execution_count": null,
   "metadata": {},
   "outputs": [],
   "source": []
  },
  {
   "cell_type": "code",
   "execution_count": null,
   "metadata": {},
   "outputs": [],
   "source": [
    "n = 5\n",
    "\n",
    "for i in range(1, n):\n",
    "    x = n - 2*i\n",
    "    if x+1 == 0:\n",
    "        for _ in range(n):\n",
    "            print('*', end = '')\n",
    "    print()\n",
    "    \n",
    "    for j in range(i):\n",
    "        print('*', end = '')\n",
    "    for _ in range(x):\n",
    "        print(' ', end = '')\n",
    "    for _ in range(i):\n",
    "        print('*', end = '')\n",
    "    "
   ]
  },
  {
   "cell_type": "code",
   "execution_count": 109,
   "metadata": {},
   "outputs": [
    {
     "name": "stdout",
     "output_type": "stream",
     "text": [
      "* *\n",
      "***\n",
      "* *\n"
     ]
    }
   ],
   "source": [
    "n = int(input())\n",
    "\n",
    "for i in range(1, n//2 + 1):\n",
    "    for j in range(i):\n",
    "        print('*', end = '')\n",
    "    for j in range(n - 2*i):\n",
    "        print(' ', end = '')\n",
    "    for j in range(i):\n",
    "        print('*', end = '')\n",
    "    print()\n",
    "\n",
    "for i in range(n):\n",
    "    print('*', end = '')\n",
    "print()\n",
    "\n",
    "for i in range(n//2, 0, -1):\n",
    "    for j in range(i):\n",
    "        print('*', end = '')\n",
    "    for j in range(n - 2*i):\n",
    "        print(' ', end = '')\n",
    "    for j in range(i):\n",
    "        print('*', end = '')\n",
    "    print()"
   ]
  },
  {
   "cell_type": "code",
   "execution_count": null,
   "metadata": {},
   "outputs": [],
   "source": [
    "*   *\n",
    "** **"
   ]
  },
  {
   "cell_type": "code",
   "execution_count": null,
   "metadata": {},
   "outputs": [],
   "source": []
  },
  {
   "cell_type": "code",
   "execution_count": null,
   "metadata": {},
   "outputs": [],
   "source": []
  },
  {
   "cell_type": "code",
   "execution_count": null,
   "metadata": {},
   "outputs": [],
   "source": []
  },
  {
   "cell_type": "markdown",
   "metadata": {},
   "source": [
    "# 내가 낸 답"
   ]
  },
  {
   "cell_type": "code",
   "execution_count": 110,
   "metadata": {},
   "outputs": [
    {
     "name": "stdout",
     "output_type": "stream",
     "text": [
      "32323\n",
      "□□□■■□□□■■□□□\n",
      "24142\n",
      "□□■■■■□■■■■□□\n",
      "1223221\n",
      "□■■□□■■■□□■■□\n",
      "1231321\n",
      "□■■□□□■□□□■■□\n",
      "22522\n",
      "□□■■□□□□□■■□□\n",
      "32323\n",
      "□□□■■□□□■■□□□\n",
      "42124\n",
      "□□□□■■□■■□□□□\n",
      "535\n",
      "□□□□□■■■□□□□□\n",
      "616\n",
      "□□□□□□■□□□□□□\n",
      "0\n"
     ]
    }
   ],
   "source": [
    "while True:\n",
    "    data = list(map(int, list(input())))\n",
    "    if data[0] == 0:\n",
    "        break\n",
    "        \n",
    "    for i in range(len(data)):\n",
    "        if i % 2 != 1:\n",
    "            for j in range(data[i]):\n",
    "                print('□', end = '')\n",
    "        else:\n",
    "            for j in range(data[i]):\n",
    "                print('■', end = '')\n",
    "    print()"
   ]
  },
  {
   "cell_type": "code",
   "execution_count": 111,
   "metadata": {},
   "outputs": [
    {
     "name": "stdout",
     "output_type": "stream",
     "text": [
      "1 2 3 4 5 6 7 8 9 10 11 12 13 14 15 16 17 18 19 20\n",
      "232792560\n"
     ]
    }
   ],
   "source": [
    "from math import gcd\n",
    "\n",
    "data = list(map(int, input().split()))\n",
    "data.sort()\n",
    "\n",
    "def sol(arr):\n",
    "    def f(x, y):\n",
    "        return x * y // gcd(x, y)\n",
    "    while True:\n",
    "        arr.append(f(arr.pop(), arr.pop()))\n",
    "        if len(arr) == 1:\n",
    "            return arr[0]\n",
    "        \n",
    "print(sol(data))"
   ]
  },
  {
   "cell_type": "code",
   "execution_count": 112,
   "metadata": {},
   "outputs": [
    {
     "name": "stdout",
     "output_type": "stream",
     "text": [
      "1\n",
      "3\n"
     ]
    }
   ],
   "source": [
    "n = int(input())\n",
    "print((2**(n + 2) - 5) % (10**9 + 7))"
   ]
  },
  {
   "cell_type": "code",
   "execution_count": 113,
   "metadata": {},
   "outputs": [
    {
     "name": "stdout",
     "output_type": "stream",
     "text": [
      "5\n",
      "79\n",
      "51\n",
      "100\n",
      "18\n",
      "8\n",
      "73\n"
     ]
    }
   ],
   "source": [
    "n = int(input())\n",
    "data = [list(map(int, list(input()))) for _ in range(n)]\n",
    "\n",
    "res = []\n",
    "for i in range(len(data)):\n",
    "    s = 0\n",
    "    for j in range(len(data[i])):\n",
    "        if data[i][j] in [1, 7]:\n",
    "            data[i][j] = 9\n",
    "        \n",
    "        s += data[i][j] * (10 ** (len(data[i]) - j - 1))\n",
    "    if s > 100:\n",
    "        s = 100\n",
    "    res.append(s)\n",
    "    \n",
    "ans = sum(res)/n\n",
    "x = ans - int(ans)\n",
    "if x >= 0.5:\n",
    "    print(int(ans) + 1)\n",
    "else:\n",
    "    print(int(ans))"
   ]
  },
  {
   "cell_type": "code",
   "execution_count": 114,
   "metadata": {},
   "outputs": [
    {
     "name": "stdout",
     "output_type": "stream",
     "text": [
      "3\n",
      "1\n",
      "1 1 0 "
     ]
    }
   ],
   "source": [
    "def dyn_fib(n): \n",
    "    val = [0, 1] \n",
    "    if n < 2: \n",
    "        return val[n] \n",
    "    else: \n",
    "        for i in range(2, n+1): \n",
    "            val.append(val[i-1] + val[i-2]) \n",
    "        return val \n",
    "    \n",
    "N = int(input())\n",
    "res = dyn_fib(N-1)\n",
    "print(max(res))\n",
    "for i in range(len(res)-1, -1, -1):\n",
    "    print(res[i], end = ' ')"
   ]
  },
  {
   "cell_type": "code",
   "execution_count": 115,
   "metadata": {},
   "outputs": [
    {
     "name": "stdout",
     "output_type": "stream",
     "text": [
      "5\n",
      "*   *\n",
      "** **\n",
      "*****\n",
      "** **\n",
      "*   *\n"
     ]
    }
   ],
   "source": [
    "n = int(input())\n",
    "\n",
    "for i in range(1, n//2 + 1):\n",
    "    for j in range(i):\n",
    "        print('*', end = '')\n",
    "    for j in range(n - 2*i):\n",
    "        print(' ', end = '')\n",
    "    for j in range(i):\n",
    "        print('*', end = '')\n",
    "    print()\n",
    "\n",
    "for i in range(n):\n",
    "    print('*', end = '')\n",
    "print()\n",
    "\n",
    "for i in range(n//2, 0, -1):\n",
    "    for j in range(i):\n",
    "        print('*', end = '')\n",
    "    for j in range(n - 2*i):\n",
    "        print(' ', end = '')\n",
    "    for j in range(i):\n",
    "        print('*', end = '')\n",
    "    print()"
   ]
  },
  {
   "cell_type": "code",
   "execution_count": 117,
   "metadata": {},
   "outputs": [
    {
     "name": "stdout",
     "output_type": "stream",
     "text": [
      "5 5\n",
      "  0   1   2   3   4 \n",
      " 15  16  17  18   5 \n",
      " 14  23  24  19   6 \n",
      " 13  22  21  20   7 \n",
      " 12  11  10   9   8 \n"
     ]
    }
   ],
   "source": [
    "from itertools import cycle\n",
    "\n",
    "def spiral(m, n):\n",
    "    size = m * n\n",
    "    matrix = [''] * size \n",
    "    matrix[:m] = list(range(m)) \n",
    "    idx = m - 1; s = idx; p = idx\n",
    "    pattern = [m, -1, -m, 1]\n",
    "    for pat in cycle(pattern):\n",
    "        while True:\n",
    "            p += pat; s += 1\n",
    "            if p < size and matrix[p] == '':\n",
    "                matrix[p] = s\n",
    "            else:\n",
    "                p -= pat; s -= 1\n",
    "                break\n",
    "        if '' not in matrix:\n",
    "            return matrix\n",
    "\n",
    "def main(m, n):\n",
    "    for i, a in enumerate(spiral(m, n), 1):\n",
    "        print('{:3d}'.format(a), end=' ')\n",
    "        if i % m == 0:\n",
    "            print()\n",
    "\t\t\n",
    "n, m = map(int, input().split())\n",
    "main(m,n)"
   ]
  },
  {
   "cell_type": "code",
   "execution_count": 118,
   "metadata": {},
   "outputs": [
    {
     "name": "stdout",
     "output_type": "stream",
     "text": [
      "3 3\n",
      "0 3\n",
      "1 5\n",
      "0 6\n",
      "3\n"
     ]
    }
   ],
   "source": [
    "import math\n",
    "\n",
    "N, K = map(int, input().split())\n",
    "student = [[0] * 7 for _ in range(3)] \n",
    "\n",
    "for _ in range(N):\n",
    "    S, Y = map(int, input().split())\n",
    "    student[S][Y] += 1\n",
    "        \n",
    "room = 0\n",
    "for i in student:\n",
    "    for j in i:\n",
    "        room += math.ceil(j / K)\n",
    "print(room)"
   ]
  },
  {
   "cell_type": "code",
   "execution_count": null,
   "metadata": {},
   "outputs": [],
   "source": []
  }
 ],
 "metadata": {
  "kernelspec": {
   "display_name": "Python 3",
   "language": "python",
   "name": "python3"
  },
  "language_info": {
   "codemirror_mode": {
    "name": "ipython",
    "version": 3
   },
   "file_extension": ".py",
   "mimetype": "text/x-python",
   "name": "python",
   "nbconvert_exporter": "python",
   "pygments_lexer": "ipython3",
   "version": "3.7.6"
  }
 },
 "nbformat": 4,
 "nbformat_minor": 4
}
