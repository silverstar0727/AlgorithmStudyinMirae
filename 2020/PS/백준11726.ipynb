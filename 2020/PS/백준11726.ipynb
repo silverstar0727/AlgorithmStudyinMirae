{
  "nbformat": 4,
  "nbformat_minor": 0,
  "metadata": {
    "colab": {
      "name": "백준11726.ipynb ",
      "provenance": [],
      "authorship_tag": "ABX9TyNOLKGODKGGvvGuNvW/BKca",
      "include_colab_link": true
    },
    "kernelspec": {
      "name": "python3",
      "display_name": "Python 3"
    }
  },
  "cells": [
    {
      "cell_type": "markdown",
      "metadata": {
        "id": "view-in-github",
        "colab_type": "text"
      },
      "source": [
        "<a href=\"https://colab.research.google.com/github/silverstar0727/AlgorithmStudyinMirae/blob/master/PS/%EB%B0%B1%EC%A4%8011726.ipynb\" target=\"_parent\"><img src=\"https://colab.research.google.com/assets/colab-badge.svg\" alt=\"Open In Colab\"/></a>"
      ]
    },
    {
      "cell_type": "code",
      "metadata": {
        "colab": {
          "base_uri": "https://localhost:8080/"
        },
        "id": "ovKCJy9oeG7e",
        "outputId": "b7062802-0d09-45d1-b0f7-473703eebccf"
      },
      "source": [
        "n = int(input())\r\n",
        "\r\n",
        "def dp(n):\r\n",
        "  cache = [0 for index in range(n + 2)]\r\n",
        "\r\n",
        "  cache[1] = 1\r\n",
        "  cache[2] = 2\r\n",
        "\r\n",
        "  for index in range(3, n + 2):\r\n",
        "    cache[index] = cache[index - 2] + cache[index - 1]\r\n",
        "\r\n",
        "  return cache[n]\r\n",
        "\r\n",
        "print(dp(n) % 10007)"
      ],
      "execution_count": 6,
      "outputs": [
        {
          "output_type": "stream",
          "text": [
            "5\n",
            "8\n"
          ],
          "name": "stdout"
        }
      ]
    },
    {
      "cell_type": "code",
      "metadata": {
        "colab": {
          "base_uri": "https://localhost:8080/"
        },
        "id": "CuDzdQ_pgeCp",
        "outputId": "f0a0c1be-d8cb-4096-a007-58b2dd72ade9"
      },
      "source": [
        ""
      ],
      "execution_count": 4,
      "outputs": [
        {
          "output_type": "execute_result",
          "data": {
            "text/plain": [
              "8"
            ]
          },
          "metadata": {
            "tags": []
          },
          "execution_count": 4
        }
      ]
    },
    {
      "cell_type": "code",
      "metadata": {
        "id": "zdpp8spcgi9n"
      },
      "source": [
        ""
      ],
      "execution_count": null,
      "outputs": []
    }
  ]
}