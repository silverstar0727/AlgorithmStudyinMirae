{
 "cells": [
  {
   "cell_type": "markdown",
   "metadata": {},
   "source": [
    "# 1번"
   ]
  },
  {
   "cell_type": "code",
   "execution_count": null,
   "metadata": {},
   "outputs": [],
   "source": [
    "while True:\n",
    "    data = list(map(int, list(input())))\n",
    "    if data[0] == 0:\n",
    "        break\n",
    "        \n",
    "    for i in range(len(data)):\n",
    "        if i % 2 != 1:\n",
    "            for j in range(data[i]):\n",
    "                print('□', end = '')\n",
    "        else:\n",
    "            for j in range(data[i]):\n",
    "                print('■', end = '')\n",
    "    print()"
   ]
  },
  {
   "cell_type": "markdown",
   "metadata": {},
   "source": [
    "# 2번"
   ]
  },
  {
   "cell_type": "code",
   "execution_count": null,
   "metadata": {},
   "outputs": [],
   "source": [
    "from math import gcd\n",
    "\n",
    "data = list(map(int, input().split()))\n",
    "data.sort()\n",
    "\n",
    "def sol(arr):\n",
    "    def f(x, y):\n",
    "        return x * y // gcd(x, y)\n",
    "    while True:\n",
    "        arr.append(f(arr.pop(), arr.pop()))\n",
    "        if len(arr) == 1:\n",
    "            return arr[0]\n",
    "        \n",
    "print(sol(data))"
   ]
  },
  {
   "cell_type": "markdown",
   "metadata": {},
   "source": [
    "# 3번"
   ]
  },
  {
   "cell_type": "code",
   "execution_count": null,
   "metadata": {},
   "outputs": [],
   "source": [
    "n = int(input())\n",
    "print((2**(n + 2) - 5) % (10**9 + 7))"
   ]
  },
  {
   "cell_type": "markdown",
   "metadata": {},
   "source": [
    "# 4번"
   ]
  },
  {
   "cell_type": "code",
   "execution_count": null,
   "metadata": {},
   "outputs": [],
   "source": [
    "n = int(input())\n",
    "data = [list(map(int, list(input()))) for _ in range(n)]\n",
    "\n",
    "res = []\n",
    "for i in range(len(data)):\n",
    "    s = 0\n",
    "    for j in range(len(data[i])):\n",
    "        if data[i][j] in [1, 7]:\n",
    "            data[i][j] = 9\n",
    "        \n",
    "        s += data[i][j] * (10 ** (len(data[i]) - j - 1))\n",
    "    if s > 100:\n",
    "        s = 100\n",
    "    res.append(s)\n",
    "    \n",
    "ans = sum(res)/n\n",
    "x = ans - int(ans)\n",
    "if x >= 0.5:\n",
    "    print(int(ans) + 1)\n",
    "else:\n",
    "    print(int(ans))"
   ]
  },
  {
   "cell_type": "markdown",
   "metadata": {},
   "source": [
    "#  5번"
   ]
  },
  {
   "cell_type": "code",
   "execution_count": null,
   "metadata": {},
   "outputs": [],
   "source": [
    "def dyn_fib(n): \n",
    "    val = [0, 1] \n",
    "    if n < 2: \n",
    "        return val[n] \n",
    "    else: \n",
    "        for i in range(2, n+1): \n",
    "            val.append(val[i-1] + val[i-2]) \n",
    "        return val \n",
    "    \n",
    "N = int(input())\n",
    "res = dyn_fib(N-1)\n",
    "print(max(res))\n",
    "for i in range(len(res)-1, -1, -1):\n",
    "    print(res[i], end = ' ')"
   ]
  },
  {
   "cell_type": "markdown",
   "metadata": {},
   "source": [
    "# 6번 "
   ]
  },
  {
   "cell_type": "code",
   "execution_count": null,
   "metadata": {},
   "outputs": [],
   "source": [
    "n = int(input())\n",
    "\n",
    "for i in range(1, n//2 + 1):\n",
    "    for j in range(i):\n",
    "        print('*', end = '')\n",
    "    for j in range(n - 2*i):\n",
    "        print(' ', end = '')\n",
    "    for j in range(i):\n",
    "        print('*', end = '')\n",
    "    print()\n",
    "\n",
    "for i in range(n):\n",
    "    print('*', end = '')\n",
    "print()\n",
    "\n",
    "for i in range(n//2, 0, -1):\n",
    "    for j in range(i):\n",
    "        print('*', end = '')\n",
    "    for j in range(n - 2*i):\n",
    "        print(' ', end = '')\n",
    "    for j in range(i):\n",
    "        print('*', end = '')\n",
    "    print()"
   ]
  },
  {
   "cell_type": "markdown",
   "metadata": {},
   "source": [
    "# 7번"
   ]
  },
  {
   "cell_type": "code",
   "execution_count": null,
   "metadata": {},
   "outputs": [],
   "source": [
    "from itertools import cycle\n",
    "\n",
    "def spiral(m, n):\n",
    "    size = m * n\n",
    "    matrix = [''] * size \n",
    "    matrix[:m] = list(range(m)) \n",
    "    idx = m - 1; s = idx; p = idx\n",
    "    pattern = [m, -1, -m, 1]\n",
    "    for pat in cycle(pattern):\n",
    "        while True:\n",
    "            p += pat; s += 1\n",
    "            if p < size and matrix[p] == '':\n",
    "                matrix[p] = s\n",
    "            else:\n",
    "                p -= pat; s -= 1\n",
    "                break\n",
    "        if '' not in matrix:\n",
    "            return matrix\n",
    "\n",
    "def main(m, n):\n",
    "    for i, a in enumerate(spiral(m, n), 1):\n",
    "        print('{:3d}'.format(a), end=' ')\n",
    "        if i % m == 0:\n",
    "            print()\n",
    "\t\t\n",
    "n, m = map(int, input().split())\n",
    "main(m,n)"
   ]
  },
  {
   "cell_type": "markdown",
   "metadata": {},
   "source": [
    "# 8번"
   ]
  },
  {
   "cell_type": "code",
   "execution_count": null,
   "metadata": {},
   "outputs": [],
   "source": [
    "import math\n",
    "\n",
    "N, K = map(int, input().split())\n",
    "student = [[0] * 7 for _ in range(3)] \n",
    "\n",
    "for _ in range(N):\n",
    "    S, Y = map(int, input().split())\n",
    "    student[S][Y] += 1\n",
    "        \n",
    "room = 0\n",
    "for i in student:\n",
    "    for j in i:\n",
    "        room += math.ceil(j / K)\n",
    "print(room)"
   ]
  }
 ],
 "metadata": {
  "kernelspec": {
   "display_name": "Python 3",
   "language": "python",
   "name": "python3"
  },
  "language_info": {
   "codemirror_mode": {
    "name": "ipython",
    "version": 3
   },
   "file_extension": ".py",
   "mimetype": "text/x-python",
   "name": "python",
   "nbconvert_exporter": "python",
   "pygments_lexer": "ipython3",
   "version": "3.7.6"
  }
 },
 "nbformat": 4,
 "nbformat_minor": 4
}
