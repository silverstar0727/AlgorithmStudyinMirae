{
  "nbformat": 4,
  "nbformat_minor": 0,
  "metadata": {
    "colab": {
      "name": "binary_searching_algorithm.ipynb",
      "provenance": [],
      "collapsed_sections": []
    },
    "kernelspec": {
      "name": "python3",
      "display_name": "Python 3"
    }
  },
  "cells": [
    {
      "cell_type": "markdown",
      "metadata": {
        "id": "hFUeav4Eah_-",
        "colab_type": "text"
      },
      "source": [
        "# binary searching algorithm\n",
        "\n",
        "이진탐색 알고리즘은 logN + 1번이상 비교하지 않으나, 리스트가 정렬되어 있어야 하므로 추가적인 비용이 들어가게 된다."
      ]
    },
    {
      "cell_type": "code",
      "metadata": {
        "id": "Zn02HLvtaUre",
        "colab_type": "code",
        "colab": {}
      },
      "source": [
        "class node:\n",
        "  def __init__(self, key = None):\n",
        "    self.key = key\n",
        "\n",
        "class Dict:\n",
        "  def __init__(self):\n",
        "    Dict.a = []\n",
        "\n",
        "  def search(self, search_key):\n",
        "    # left와 right는 양 끝점을 의미\n",
        "    left = 0\n",
        "    right = len(Dict.a) - 1\n",
        "\n",
        "    # right가 left보다 크거나 같을때까지\n",
        "    while right >= left:\n",
        "      mid = int((left + right)/2) # 중간지점\n",
        "      if Dict.a[mid].key == search_key: # 중간지점이 같을 경우 탐색 성공\n",
        "        return mid\n",
        "      if Dict.a[mid].key > search_key: # 클 경우 중간지점 - 1을 오른 끝 지점으로\n",
        "        right = mid - 1\n",
        "      else:\n",
        "        left = mid + 1 # 작을경우도 마찬가지\n",
        "\n",
        "    return -1\n",
        "\n",
        "  def insert(self, v):\n",
        "    Dict.a.append(node(v))"
      ],
      "execution_count": null,
      "outputs": []
    },
    {
      "cell_type": "code",
      "metadata": {
        "id": "AgJqXzW_bYVe",
        "colab_type": "code",
        "colab": {
          "base_uri": "https://localhost:8080/",
          "height": 53
        },
        "outputId": "bbb86c65-2f6f-4c7b-8185-7786995ec591"
      },
      "source": [
        "import random, time\n",
        "\n",
        "N = 100000\n",
        "key = list(range(1, (N + 1)))\n",
        "s_key = list(range(1, (N + 1)))\n",
        "\n",
        "random.shuffle(s_key) # 순차적 탐색과는 다르게 s_key를 랜덤화\n",
        "\n",
        "d = Dict()\n",
        "\n",
        "for i in range(N):\n",
        "  d.insert(key[i])\n",
        "\n",
        "start_time = time.clock()\n",
        "for i in range(N):\n",
        "  result = d.search(s_key[i])\n",
        "  if (result == -1) | (key[result] != s_key[i]): # -1을 뱉을 때, 넣어 봤을 때 틀리면 탐색오류\n",
        "    print('탐색 오류')\n",
        "\n",
        "end_time = time.clock() - start_time\n",
        "print('이진 탐색의 실행시간 (N = %d): %0.3f' %(N, end_time))\n",
        "print('탐색완료')"
      ],
      "execution_count": null,
      "outputs": [
        {
          "output_type": "stream",
          "text": [
            "이진 탐색의 실행시간 (N = 100000): 0.951\n",
            "탐색완료\n"
          ],
          "name": "stdout"
        }
      ]
    },
    {
      "cell_type": "code",
      "metadata": {
        "id": "bEPllIzwc8c4",
        "colab_type": "code",
        "colab": {}
      },
      "source": [
        ""
      ],
      "execution_count": null,
      "outputs": []
    }
  ]
}