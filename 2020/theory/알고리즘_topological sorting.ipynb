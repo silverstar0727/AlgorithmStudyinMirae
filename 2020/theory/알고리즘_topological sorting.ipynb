{
 "cells": [
  {
   "cell_type": "markdown",
   "metadata": {},
   "source": [
    "# Topological sort algorithm\n",
    "위상정렬은 빌드 시스템의 순서를 결정하고, 텐서플로우 딥러닝 그래프의 작동 순서를 알아낼 때도 사용할 수 있다. 보통 가장 쉬운 예제로는 응용 수업을 듣기 위해 기초수업을 먼저 들어야 할 때, 어떤 수업을 먼저 들어야할 지 순서대로 정렬할 때 사용함.\n",
    "\n",
    "2개의 dictionary와 stack을 사용하는 공간 복잡도를 지니고\n",
    "\n",
    "O(V+E)의 시간 복잡도를 지닌다."
   ]
  },
  {
   "cell_type": "markdown",
   "metadata": {},
   "source": [
    "## 구현"
   ]
  },
  {
   "cell_type": "code",
   "execution_count": 11,
   "metadata": {},
   "outputs": [],
   "source": [
    "from collections import defaultdict\n",
    "adjacency_list = defaultdict()\n",
    "adjacency_list['a'] = ['d']\n",
    "adjacency_list['b'] = ['d']\n",
    "adjacency_list['c'] = ['e']\n",
    "adjacency_list['d'] = ['e']\n",
    "adjacency_list['e'] = []"
   ]
  },
  {
   "cell_type": "code",
   "execution_count": 12,
   "metadata": {},
   "outputs": [],
   "source": [
    "visited_list = defaultdict()\n",
    "visited_list['a'] = False\n",
    "visited_list['b'] = False\n",
    "visited_list['c'] = False\n",
    "visited_list['d'] = False\n",
    "visited_list['e'] = False"
   ]
  },
  {
   "cell_type": "code",
   "execution_count": 13,
   "metadata": {},
   "outputs": [],
   "source": [
    "output_stack = []"
   ]
  },
  {
   "cell_type": "code",
   "execution_count": 14,
   "metadata": {},
   "outputs": [],
   "source": [
    "\n",
    "def topology_sort(vertex):\n",
    "    if not visited_list[vertex]:\n",
    "        visited_list[vertex] = True\n",
    "        for neighbor in adjacency_list[vertex]:\n",
    "            topology_sort(neighbor)\n",
    "        output_stack.insert(0, vertex)"
   ]
  },
  {
   "cell_type": "code",
   "execution_count": 16,
   "metadata": {},
   "outputs": [],
   "source": [
    "for vertex in visited_list:\n",
    "    topology_sort(vertex)"
   ]
  },
  {
   "cell_type": "code",
   "execution_count": 17,
   "metadata": {},
   "outputs": [
    {
     "data": {
      "text/plain": [
       "['c', 'b', 'a', 'd', 'e']"
      ]
     },
     "execution_count": 17,
     "metadata": {},
     "output_type": "execute_result"
    }
   ],
   "source": [
    "output_stack"
   ]
  },
  {
   "cell_type": "code",
   "execution_count": null,
   "metadata": {},
   "outputs": [],
   "source": []
  },
  {
   "cell_type": "code",
   "execution_count": null,
   "metadata": {},
   "outputs": [],
   "source": []
  }
 ],
 "metadata": {
  "kernelspec": {
   "display_name": "Python 3",
   "language": "python",
   "name": "python3"
  },
  "language_info": {
   "codemirror_mode": {
    "name": "ipython",
    "version": 3
   },
   "file_extension": ".py",
   "mimetype": "text/x-python",
   "name": "python",
   "nbconvert_exporter": "python",
   "pygments_lexer": "ipython3",
   "version": "3.7.6"
  }
 },
 "nbformat": 4,
 "nbformat_minor": 4
}
