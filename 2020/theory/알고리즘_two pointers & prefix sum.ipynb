{
 "cells": [
  {
   "cell_type": "markdown",
   "metadata": {},
   "source": [
    "## two pointers\n",
    "two pointers는 start와 end의 두개의 포인트를 이용해서 수열과 같은 나열된 데이터의 합과 같은 것을 효과적으로 처리할 수 있다.\n",
    "\n",
    "ex1) \n",
    "수열 $a_n = 1,2,3,2,5$ 에서 합이 5인 부분 연속 수열의 개수를 계산하라.\n",
    "\n",
    "#### 로직\n",
    "1. start, end를 첫번째 숫자인 1로 설정\n",
    "2. start~end의 합 < 5 -> end를 한칸 이동\n",
    "3. start~end의 합 = 5 -> 정답에 저장 후 start를 한칸 이동\n",
    "4. start~end의 합 > 5 -> 합이 결과이므로 더이상 더하면 커지니 중지하고 start를 한칸 이동\n",
    "5. start가 마지막에 갈때까지 실행"
   ]
  },
  {
   "cell_type": "code",
   "execution_count": 2,
   "metadata": {},
   "outputs": [
    {
     "name": "stdout",
     "output_type": "stream",
     "text": [
      "[[2, 3], [3, 2], [5]]\n"
     ]
    }
   ],
   "source": [
    "# ex1) 구현\n",
    "data = [1,2,3,2,5]\n",
    "end = 0\n",
    "start = 0\n",
    "\n",
    "res = []\n",
    "while start <= 4:\n",
    "    sum_ = sum(data[start:end + 1])\n",
    "    if sum_ < 5:\n",
    "        end += 1\n",
    "        if end > len(data):\n",
    "            break\n",
    "    elif sum_ == 5:\n",
    "        res.append(data[start: end + 1])\n",
    "        start += 1\n",
    "    else: \n",
    "        start += 1\n",
    "print(res)        "
   ]
  },
  {
   "cell_type": "markdown",
   "metadata": {},
   "source": [
    "## Prefix Sum algorithm\n",
    "선행 누적합을 통해 데이터의 구간합을 쉽게 도출할 수 있음"
   ]
  },
  {
   "cell_type": "markdown",
   "metadata": {},
   "source": [
    "### ex2) \n",
    "data = [10, 20, 30, 40, 50] 이고 왼쪽과 오른쪽 사이의 수들의 합을 계산할 때, 왼쪽과 오른쪽이 쿼리로 다음과 같이 주어짐\n",
    "\n",
    "L = 1, R = 3\n",
    "\n",
    "L = 2, R = 5\n",
    "\n",
    "L = 3, R = 4\n",
    "\n",
    "#### 로직\n",
    "1. prefix sum을 계산하여 배열에 저장\n",
    "2. 쿼리의 정보를 확인할 때, 구간합은 (배열의 오른쪽 - 배열의 왼쪽)"
   ]
  },
  {
   "cell_type": "code",
   "execution_count": 11,
   "metadata": {},
   "outputs": [
    {
     "name": "stdout",
     "output_type": "stream",
     "text": [
      "[60, 140, 70]\n"
     ]
    }
   ],
   "source": [
    "# ex2) 구현\n",
    "data = [10, 20, 30, 40, 50]\n",
    "L = [1, 2, 3]\n",
    "R = [3, 5, 4]\n",
    "\n",
    "p = []\n",
    "for i in range(len(data) + 1):\n",
    "    p.append(sum(data[:i]))\n",
    "\n",
    "res = []\n",
    "for i in range(len(L)):\n",
    "    res.append(p[R[i]] - p[L[i] - 1])\n",
    "    \n",
    "print(res)"
   ]
  }
 ],
 "metadata": {
  "kernelspec": {
   "display_name": "Python 3",
   "language": "python",
   "name": "python3"
  },
  "language_info": {
   "codemirror_mode": {
    "name": "ipython",
    "version": 3
   },
   "file_extension": ".py",
   "mimetype": "text/x-python",
   "name": "python",
   "nbconvert_exporter": "python",
   "pygments_lexer": "ipython3",
   "version": "3.7.6"
  }
 },
 "nbformat": 4,
 "nbformat_minor": 4
}
