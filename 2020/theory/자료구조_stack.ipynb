{
  "nbformat": 4,
  "nbformat_minor": 0,
  "metadata": {
    "colab": {
      "name": "자료구조와 알고리즘(stack).ipynb",
      "provenance": [],
      "collapsed_sections": []
    },
    "kernelspec": {
      "name": "python3",
      "display_name": "Python 3"
    }
  },
  "cells": [
    {
      "cell_type": "markdown",
      "metadata": {
        "id": "oyHdl-uTrDCP",
        "colab_type": "text"
      },
      "source": [
        "#### 스택(stack)\n",
        "* 한쪽 끝에서만 자료를 넣거나 뺄 수 있는 구조\n",
        "* LIFO(Last IN First Out), FILO(First In Last Out)\n",
        "* 주요기능: push(): 데이터를 스택에 넣기, pop(): 데이터를 스택에서 빼기"
      ]
    },
    {
      "cell_type": "markdown",
      "metadata": {
        "id": "HIlFDlUjT2za",
        "colab_type": "text"
      },
      "source": [
        "장점\n",
        "* 구조가 단순하여 구현이 쉬움\n",
        "* 데이터 저장과 읽기 속도가 빠름\n",
        "\n",
        "\n",
        "단점\n",
        "* 데이터의 최대 개수를 미리정해야 함(파이썬의 경우 재귀함수는 1000번 까지만 호출이 가능)\n",
        "* 저장공간의 낭비가 발생할 수 있음(미리 최대 개수만큼 저장 공간을 확보해야 함)"
      ]
    },
    {
      "cell_type": "code",
      "metadata": {
        "id": "KQ4KQeNorC2X",
        "colab_type": "code",
        "colab": {}
      },
      "source": [
        "# 재귀함수\n",
        "def recursive(data):\n",
        "  if data < 0:\n",
        "    print('ended')\n",
        "\n",
        "  else:\n",
        "    print(data)\n",
        "    recursive(data - 1)\n",
        "    print('returned', data)"
      ],
      "execution_count": null,
      "outputs": []
    },
    {
      "cell_type": "code",
      "metadata": {
        "id": "Pt1H2t7crC0O",
        "colab_type": "code",
        "colab": {
          "base_uri": "https://localhost:8080/",
          "height": 215
        },
        "outputId": "bc1bccfa-be82-4852-fbae-c117d433eff1"
      },
      "source": [
        "recursive(4)"
      ],
      "execution_count": null,
      "outputs": [
        {
          "output_type": "stream",
          "text": [
            "4\n",
            "3\n",
            "2\n",
            "1\n",
            "0\n",
            "ended\n",
            "returned 0\n",
            "returned 1\n",
            "returned 2\n",
            "returned 3\n",
            "returned 4\n"
          ],
          "name": "stdout"
        }
      ]
    },
    {
      "cell_type": "code",
      "metadata": {
        "id": "iWg38gIWq5tR",
        "colab_type": "code",
        "colab": {}
      },
      "source": [
        "data_stack = list()\n",
        "\n",
        "data_stack.append(1)\n",
        "data_stack.append(2)"
      ],
      "execution_count": null,
      "outputs": []
    },
    {
      "cell_type": "code",
      "metadata": {
        "id": "d_r0zFCDUNdF",
        "colab_type": "code",
        "colab": {
          "base_uri": "https://localhost:8080/",
          "height": 35
        },
        "outputId": "5f23e5a3-65a5-45fe-9052-65b02ce037ac"
      },
      "source": [
        "data_stack"
      ],
      "execution_count": null,
      "outputs": [
        {
          "output_type": "execute_result",
          "data": {
            "text/plain": [
              "[1, 2]"
            ]
          },
          "metadata": {
            "tags": []
          },
          "execution_count": 4
        }
      ]
    },
    {
      "cell_type": "code",
      "metadata": {
        "id": "uk7cQ_7mUOLn",
        "colab_type": "code",
        "colab": {
          "base_uri": "https://localhost:8080/",
          "height": 35
        },
        "outputId": "e63b590e-3195-45a0-b694-ff01a4d6f46f"
      },
      "source": [
        "data_stack.pop()"
      ],
      "execution_count": null,
      "outputs": [
        {
          "output_type": "execute_result",
          "data": {
            "text/plain": [
              "2"
            ]
          },
          "metadata": {
            "tags": []
          },
          "execution_count": 5
        }
      ]
    },
    {
      "cell_type": "code",
      "metadata": {
        "id": "lOXsTmH_UPrJ",
        "colab_type": "code",
        "colab": {}
      },
      "source": [
        "data_stack = list()\n",
        "\n",
        "def push(data):\n",
        "  data_stack.append(data)\n",
        "\n",
        "def pop():\n",
        "  data = data_stack[-1]\n",
        "  del data_stack[-1]\n",
        "  \n",
        "  return data\n"
      ],
      "execution_count": null,
      "outputs": []
    },
    {
      "cell_type": "code",
      "metadata": {
        "id": "RbRk6zYfUl4n",
        "colab_type": "code",
        "colab": {}
      },
      "source": [
        "for index in range(10):\n",
        "  push(index)"
      ],
      "execution_count": null,
      "outputs": []
    },
    {
      "cell_type": "code",
      "metadata": {
        "id": "QalbHa_4UpQy",
        "colab_type": "code",
        "colab": {
          "base_uri": "https://localhost:8080/",
          "height": 35
        },
        "outputId": "3fb41430-3a05-43e9-8f45-2283d6e31fd4"
      },
      "source": [
        "pop()"
      ],
      "execution_count": null,
      "outputs": [
        {
          "output_type": "execute_result",
          "data": {
            "text/plain": [
              "9"
            ]
          },
          "metadata": {
            "tags": []
          },
          "execution_count": 11
        }
      ]
    },
    {
      "cell_type": "code",
      "metadata": {
        "id": "DwtuLacjUp4f",
        "colab_type": "code",
        "colab": {}
      },
      "source": [
        ""
      ],
      "execution_count": null,
      "outputs": []
    }
  ]
}
