{
 "cells": [
  {
   "cell_type": "markdown",
   "metadata": {},
   "source": [
    "https://www.acmicpc.net/problem/11586"
   ]
  },
  {
   "cell_type": "code",
   "execution_count": null,
   "metadata": {},
   "outputs": [],
   "source": [
    "# 백준 11586\n",
    "n = int(input())\n",
    "\n",
    "data = []\n",
    "for i in range(n):\n",
    "    data.append(list(input()))\n",
    "\n",
    "k = int(input())\n",
    "if k == 1:\n",
    "    for i in range(n):\n",
    "        for j in range(n):\n",
    "            print(data[i][j], end = '')\n",
    "        print()\n",
    "        \n",
    "elif k == 2:\n",
    "    for i in range(n):\n",
    "        for j in range(n - 1, -1, -1):\n",
    "            print(data[i][j], end = '')\n",
    "        print()\n",
    "        \n",
    "else:\n",
    "    for i in range(n - 1, -1, -1):\n",
    "        for j in range(n):\n",
    "            print(data[i][j], end = '')\n",
    "        print()"
   ]
  },
  {
   "cell_type": "markdown",
   "metadata": {},
   "source": [
    "https://programmers.co.kr/learn/courses/30/lessons/43163"
   ]
  },
  {
   "cell_type": "code",
   "execution_count": 52,
   "metadata": {},
   "outputs": [],
   "source": [
    "# programmer 단어변환\n",
    "def solution(begin, target, words):\n",
    "    word_list = [begin] + [target] + words\n",
    "    \n",
    "    graph = {}\n",
    "    for i in range(len(word_list)):\n",
    "        a = list(word_list[i])\n",
    "        l = []\n",
    "        for j in range(len(word_list)):\n",
    "            if len([k for k in range(len(a)) if a[k] != list(word_list[j])[k]]) == 1:\n",
    "                l.append(word_list[j])\n",
    "                \n",
    "        graph[word_list[i]] = l\n",
    "        \n",
    "    print(graph)\n",
    "        \n",
    "    # bfs 이용\n",
    "    def bfs(graph, start_node):\n",
    "        visited, need_visit = [],[]\n",
    "\n",
    "        need_visit.append(start_node)\n",
    "        count = 0\n",
    "        while need_visit:\n",
    "            count += 1\n",
    "            node = need_visit.pop(0)\n",
    "            if node not in visited:\n",
    "                visited.append(node)\n",
    "                need_visit.extend(graph[node])\n",
    "        return count\n",
    "    \n",
    "    answer = bfs(graph, begin)\n",
    "\n",
    "    return answer\n",
    "## 엥.. 맞게한거 같은데... 뭐가틀린지 모르겠음 ㅠㅠ"
   ]
  },
  {
   "cell_type": "code",
   "execution_count": null,
   "metadata": {},
   "outputs": [],
   "source": [
    "from collections import deque\n",
    "def solution(begin, target, words):\n",
    "    dist = {begin: 0}\n",
    "    queue = deque([begin])\n",
    "\n",
    "    while queue:\n",
    "        current = queue.popleft()\n",
    "        next_words = filter(lambda w : sum([int(x!=y) for x,y in zip(current,w)])==1,words)\n",
    "        for next_word in next_words:\n",
    "            if next_word not in dist:\n",
    "                dist[next_word] = dist[current] + 1\n",
    "                queue.append(next_word)\n",
    "\n",
    "    return dist.get(target, 0)"
   ]
  },
  {
   "cell_type": "markdown",
   "metadata": {},
   "source": [
    "https://www.acmicpc.net/problem/11578"
   ]
  },
  {
   "cell_type": "code",
   "execution_count": 162,
   "metadata": {},
   "outputs": [
    {
     "name": "stdout",
     "output_type": "stream",
     "text": [
      "5 4\n",
      "2 3 4\n",
      "2 1 2\n",
      "4 1 2 3 4\n",
      "1 5\n",
      "{0: [3, 4], 1: [1, 2], 2: [1, 2, 3, 4], 3: [5]}\n",
      "2\n"
     ]
    }
   ],
   "source": [
    "## greedy algorithm - 최적이 아닌 경우가 발생함...\n",
    "n, m = map(int, input().split())\n",
    "\n",
    "data = {}\n",
    "for i in range(m):\n",
    "    data[i] = list(map(int, input().split()))[1:]\n",
    "\n",
    "print(data)\n",
    "data = sorted(data.values(), key = lambda x: len(x), reverse = True)\n",
    "\n",
    "def erase(p, sol, count):\n",
    "    p_ = p.copy()\n",
    "    \n",
    "    for i in range(len(sol)):\n",
    "        if sol[i] in p:\n",
    "            p.remove(sol[i])\n",
    "            \n",
    "    if p != p_:\n",
    "        count += 1\n",
    "    return p, count\n",
    "\n",
    "count = 0\n",
    "problems = list(range(1, n+1))\n",
    "for i in range(m):\n",
    "    problems, count = erase(problems, data[i], count)\n",
    "    \n",
    "if problems == []:\n",
    "    print(count)\n",
    "else:\n",
    "    print(-1)"
   ]
  },
  {
   "cell_type": "code",
   "execution_count": 166,
   "metadata": {},
   "outputs": [
    {
     "name": "stdout",
     "output_type": "stream",
     "text": [
      "{0: [3, 4], 1: [1, 2], 2: [1, 2, 3, 4], 3: [5]}\n"
     ]
    }
   ],
   "source": [
    "from collections import deque\n",
    "\n",
    "## dfs\n",
    "# 한 vertex의 value는 문제 리스트중에서 풀수 없는 것을 보유한 리스트와 연결 됨\n",
    "n, m = 5, 4\n",
    "n_problems = list(range(1, n + 1))\n",
    "\n",
    "data_ = {0: [3, 4], 1: [1, 2], 2: [1, 2, 3, 4], 3: [5]}\n",
    "data = sorted(data_.values(), key = lambda x: len(x), reverse = True)\n",
    "\n",
    "graph = {}\n",
    "for i in range(len(data)):\n",
    "    rest = [item for item in n_problems if item not in data[i]]\n",
    "    graph[i] = set([j for j in range(len(data)) if any(x in data[j] for x in rest)])\n",
    "\n",
    "def bfs(graph, root):\n",
    "    visited = []\n",
    "    queue = deque([root])\n",
    "    \n",
    "    count = 1\n",
    "    while queue:\n",
    "        n = queue.popleft()\n",
    "        if n not in visited:\n",
    "            count += 1\n",
    "            visited.append(n)\n",
    "            queue += graph[n] - set(visited)\n",
    "    return count\n",
    "\n",
    "bfs(graph, 0)"
   ]
  },
  {
   "cell_type": "code",
   "execution_count": 201,
   "metadata": {},
   "outputs": [
    {
     "name": "stdout",
     "output_type": "stream",
     "text": [
      "[1, 2, 3, 4, 5] 0\n",
      "[1, 2, 4, 5] 0\n",
      "[1, 2, 5] 1\n",
      "[1, 2] 2\n",
      "[2] 2\n",
      "[1, 2, 3, 4, 5] 0\n",
      "[2, 3, 4, 5] 0\n",
      "[3, 4, 5] 1\n",
      "[3, 4] 2\n",
      "[4] 2\n",
      "[1, 2, 3, 4, 5] 0\n",
      "[2, 3, 4, 5] 0\n",
      "[3, 4, 5] 0\n",
      "[4, 5] 0\n",
      "[5] 1\n",
      "[1, 2, 3, 4, 5] 0\n",
      "[1, 2, 3, 4] 1\n",
      "[2, 3, 4] 1\n",
      "[3, 4] 1\n",
      "[4] 1\n",
      "2\n"
     ]
    }
   ],
   "source": [
    "## dfs\n",
    "# 한 vertex의 value는 문제 리스트중에서 풀수 없는 것을 보유한 리스트와 연결 됨\n",
    "n, m = 5, 4\n",
    "n_problems = list(range(1, n + 1))\n",
    "\n",
    "data_ = {0: [3, 4], 1: [1, 2], 2: [1, 2, 3, 4], 3: [5]}\n",
    "data = sorted(data_.values(), key = lambda x: len(x), reverse = True)\n",
    "\n",
    "graph = {}\n",
    "for i in range(len(data)):\n",
    "    rest = [item for item in n_problems if item not in data[i]]\n",
    "    graph[i] = [j for j in range(len(data)) if any(x in data[j] for x in rest)]\n",
    "\n",
    "def DFS(start_node, problems, data_, graph):\n",
    "    p_ = problems.copy()\n",
    "    stack = [start_node, ]\n",
    "    \n",
    "    count = 0\n",
    "    while True:\n",
    "        if len(stack) == 0:\n",
    "            return None\n",
    "        \n",
    "        node = stack.pop()\n",
    "        for i in data_[node]:\n",
    "            if i in problems:\n",
    "                print(problems, count)\n",
    "                problems.remove(i)\n",
    "                \n",
    "        if problems != p_:\n",
    "            count += 1\n",
    "            if problems == []:\n",
    "                return count\n",
    "            \n",
    "        stack.extend(graph[node])\n",
    "\n",
    "result = []\n",
    "for i in range(m):\n",
    "    result.append(DFS(i, list(range(1, n + 1)), data_, graph))\n",
    "print(min(result))"
   ]
  },
  {
   "cell_type": "code",
   "execution_count": 202,
   "metadata": {},
   "outputs": [
    {
     "data": {
      "text/plain": [
       "[3, 3, 2, 2]"
      ]
     },
     "execution_count": 202,
     "metadata": {},
     "output_type": "execute_result"
    }
   ],
   "source": [
    "result"
   ]
  },
  {
   "cell_type": "code",
   "execution_count": null,
   "metadata": {},
   "outputs": [],
   "source": []
  }
 ],
 "metadata": {
  "kernelspec": {
   "display_name": "Python 3",
   "language": "python",
   "name": "python3"
  },
  "language_info": {
   "codemirror_mode": {
    "name": "ipython",
    "version": 3
   },
   "file_extension": ".py",
   "mimetype": "text/x-python",
   "name": "python",
   "nbconvert_exporter": "python",
   "pygments_lexer": "ipython3",
   "version": "3.7.6"
  }
 },
 "nbformat": 4,
 "nbformat_minor": 4
}
