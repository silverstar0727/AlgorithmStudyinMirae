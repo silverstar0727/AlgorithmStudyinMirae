{
 "cells": [
  {
   "cell_type": "markdown",
   "metadata": {},
   "source": [
    "https://www.acmicpc.net/problem/15649"
   ]
  },
  {
   "cell_type": "code",
   "execution_count": 8,
   "metadata": {
    "scrolled": true
   },
   "outputs": [
    {
     "name": "stdout",
     "output_type": "stream",
     "text": [
      "4 2\n",
      "1 2\n",
      "1 3\n",
      "1 4\n",
      "2 1\n",
      "2 3\n",
      "2 4\n",
      "3 1\n",
      "3 2\n",
      "3 4\n",
      "4 1\n",
      "4 2\n",
      "4 3\n"
     ]
    }
   ],
   "source": [
    "n, m = map(int, input().split())\n",
    "TF_list = [False] * n\n",
    "\n",
    "arr = [] # arr는 수열을 담는 리스트\n",
    "\n",
    "def dfs(cnt):\n",
    "    if cnt == m:\n",
    "        print(*arr)\n",
    "        return\n",
    "    \n",
    "    for i in range(n):\n",
    "        if TF_list[i]: # True라면 그냥 진행\n",
    "            continue\n",
    "        \n",
    "        TF_list[i] = True # i번째는 기본적으로 True\n",
    "        arr.append(i + 1) # 해당 값을 수열에 추가\n",
    "        dfs(cnt + 1) # cnt + 1 ----> 다음 값을 게속 추가\n",
    "        \n",
    "        # 다시 돌려놓는...\n",
    "        arr.pop() \n",
    "        TF_list[i] = False\n",
    "\n",
    "dfs(0)"
   ]
  },
  {
   "cell_type": "markdown",
   "metadata": {},
   "source": [
    "https://www.acmicpc.net/problem/15650"
   ]
  },
  {
   "cell_type": "markdown",
   "metadata": {},
   "source": [
    "* 로직\n",
    "\n",
    "-> 위와 동일하나 앞 부분은 선택하지 않도록 해야함\n",
    "1. 1 ~ n까지의 수 중 하나인 i를 선택\n",
    "2. i+1 ~ n까지의 수 중 하나인 j를 선택\n",
    "3. 1,2 처럼 반복을 하되, TF_list를 만들고 이전에 선택된 적 없는 것들을 찾아 선택"
   ]
  },
  {
   "cell_type": "code",
   "execution_count": 61,
   "metadata": {},
   "outputs": [
    {
     "name": "stdout",
     "output_type": "stream",
     "text": [
      "4 2\n",
      "1 2\n",
      "1 3\n",
      "1 4\n",
      "2 3\n",
      "2 4\n",
      "3 4\n"
     ]
    }
   ],
   "source": [
    "n, m = map(int, input().split())\n",
    "TF_list = [False] * n\n",
    "arr = []\n",
    "\n",
    "def dfs(cnt, start):\n",
    "    if cnt == m:\n",
    "        print(*arr)\n",
    "        return\n",
    "    \n",
    "    for i in range(start, n): # depth별 반복\n",
    "        if TF_list[i]:\n",
    "            continue\n",
    "        \n",
    "        TF_list[i]\n",
    "        arr.append(i + 1)\n",
    "        start += 1\n",
    "        dfs(cnt + 1, start) # 다음 depth로 이동\n",
    "        \n",
    "        # 다시 돌려놓기\n",
    "        arr.pop()\n",
    "        if start == 1:\n",
    "            TF_list[i] = False\n",
    "        \n",
    "dfs(0, 0)"
   ]
  },
  {
   "cell_type": "markdown",
   "metadata": {},
   "source": [
    "https://www.acmicpc.net/problem/15651"
   ]
  },
  {
   "cell_type": "markdown",
   "metadata": {},
   "source": [
    "* 로직\n",
    "\n",
    "-> depth별로 앞에서 거치지 않은 수를 다 반복하면 됨\n",
    "1. 1 ~ n까지의 수 중 i를 선택\n",
    "2. i ~ n까지의 수 중 j를 선택\n",
    "3. 1, 2를 반복..."
   ]
  },
  {
   "cell_type": "code",
   "execution_count": 44,
   "metadata": {},
   "outputs": [
    {
     "name": "stdout",
     "output_type": "stream",
     "text": [
      "4 2\n",
      "1 1\n",
      "1 2\n",
      "1 3\n",
      "1 4\n",
      "2 1\n",
      "2 2\n",
      "2 3\n",
      "2 4\n",
      "3 1\n",
      "3 2\n",
      "3 3\n",
      "3 4\n",
      "4 1\n",
      "4 2\n",
      "4 3\n",
      "4 4\n"
     ]
    }
   ],
   "source": [
    "n, m = map(int, input().split())\n",
    "TF_list = [False] * n\n",
    "arr = []\n",
    "\n",
    "def dfs(cnt, start):\n",
    "    if cnt == m:\n",
    "        print(*arr)\n",
    "        return\n",
    "    \n",
    "    for i in range(start, n): # depth별 반복\n",
    "        if TF_list[i]:\n",
    "            continue\n",
    "        \n",
    "        arr.append(i + 1)\n",
    "        dfs(cnt + 1, start) # 다음 depth로 이동\n",
    "        \n",
    "        # 다시 돌려놓기\n",
    "        arr.pop()\n",
    "        TF_list[i] = False\n",
    "        \n",
    "dfs(0, 0)"
   ]
  },
  {
   "cell_type": "markdown",
   "metadata": {},
   "source": [
    "https://www.acmicpc.net/problem/15652"
   ]
  },
  {
   "cell_type": "markdown",
   "metadata": {},
   "source": [
    "* 로직\n",
    "\n",
    "-> depth에서 반복하는 시작점이 앞에서 선택한 것보다 크거나 같아야 함"
   ]
  },
  {
   "cell_type": "code",
   "execution_count": 49,
   "metadata": {
    "scrolled": true
   },
   "outputs": [
    {
     "name": "stdout",
     "output_type": "stream",
     "text": [
      "3 3\n",
      "1 1 1\n",
      "1 1 2\n",
      "1 1 3\n",
      "1 2 2\n",
      "1 2 3\n",
      "1 3 3\n",
      "2 2 2\n",
      "2 2 3\n",
      "2 3 3\n",
      "3 3 3\n"
     ]
    }
   ],
   "source": [
    "n, m = map(int, input().split())\n",
    "TF_list = [False] * n\n",
    "arr = []\n",
    "\n",
    "def dfs(cnt, start):\n",
    "    if cnt == m:\n",
    "        print(*arr)\n",
    "        return\n",
    "    \n",
    "    for i in range(start, n): # depth별 반복\n",
    "        if TF_list[i]:\n",
    "            continue\n",
    "        \n",
    "        arr.append(i + 1)\n",
    "        dfs(cnt + 1, i) # 다음 depth로 이동, start는 앞에서 선택한 i여야 함\n",
    "        \n",
    "        # 다시 돌려놓기\n",
    "        arr.pop()\n",
    "        TF_list[i] = False\n",
    "        \n",
    "dfs(0, 0)"
   ]
  },
  {
   "cell_type": "markdown",
   "metadata": {},
   "source": [
    "https://www.acmicpc.net/problem/9663"
   ]
  },
  {
   "cell_type": "code",
   "execution_count": 94,
   "metadata": {},
   "outputs": [
    {
     "name": "stdout",
     "output_type": "stream",
     "text": [
      "8\n",
      "92\n"
     ]
    }
   ],
   "source": [
    "n = int(input())\n",
    "ans= 0\n",
    "\n",
    "a, b, c = [False]*n, [False]*(2*n - 1), [False]*(2*n - 1)\n",
    "\n",
    "def solve_dfs(i):\n",
    "    global ans\n",
    "    if i == n:\n",
    "        ans += 1\n",
    "        return\n",
    "    for j in range(n):\n",
    "        if not a[j] and not b[i + j] and not c[i - j + n - 1]:\n",
    "            a[j] = b[i + j] = c[i - j + n - 1] = True\n",
    "            solve_dfs(i + 1)\n",
    "            a[j] = b[i + j] = c[i - j + n - 1] = False\n",
    "solve_dfs(0)\n",
    "print(ans)"
   ]
  },
  {
   "cell_type": "code",
   "execution_count": null,
   "metadata": {},
   "outputs": [],
   "source": []
  }
 ],
 "metadata": {
  "kernelspec": {
   "display_name": "Python 3",
   "language": "python",
   "name": "python3"
  },
  "language_info": {
   "codemirror_mode": {
    "name": "ipython",
    "version": 3
   },
   "file_extension": ".py",
   "mimetype": "text/x-python",
   "name": "python",
   "nbconvert_exporter": "python",
   "pygments_lexer": "ipython3",
   "version": "3.7.6"
  }
 },
 "nbformat": 4,
 "nbformat_minor": 4
}
