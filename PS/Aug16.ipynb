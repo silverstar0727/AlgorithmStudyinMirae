{
 "cells": [
  {
   "cell_type": "markdown",
   "metadata": {},
   "source": [
    "![석탄나~1_1](https://user-images.githubusercontent.com/49096513/90333153-580aa000-dffe-11ea-891b-2ca2099c50aa.png)\n",
    "![석탄나~1_2](https://user-images.githubusercontent.com/49096513/90333155-593bcd00-dffe-11ea-81df-d8b15850ef85.png)\n"
   ]
  },
  {
   "cell_type": "code",
   "execution_count": 29,
   "metadata": {
    "scrolled": true
   },
   "outputs": [
    {
     "name": "stdout",
     "output_type": "stream",
     "text": [
      "5\n",
      "2\n",
      "7\n",
      "3\n",
      "1\n",
      "4\n",
      "NO\n"
     ]
    }
   ],
   "source": [
    "n = int(input())\n",
    "data = []\n",
    "for i in range(n):\n",
    "    data.append(int(input()))\n",
    "    \n",
    "x = 0\n",
    "cnt = 0\n",
    "a = float('inf')\n",
    "b = float('inf')\n",
    "while True:\n",
    "    if x == len(data):\n",
    "        print('YES')\n",
    "        break\n",
    "    \n",
    "    else:\n",
    "        x_ = x\n",
    "        if data[cnt] < a:\n",
    "            a = data[cnt]\n",
    "            x += 1\n",
    "        if data[n - 1 - cnt] < b:\n",
    "            b = data[n - 1 - cnt]\n",
    "            x += 1\n",
    "    \n",
    "        if x_ == x:\n",
    "            print('NO')\n",
    "            break\n",
    "    \n",
    "    cnt += 1"
   ]
  },
  {
   "cell_type": "code",
   "execution_count": 91,
   "metadata": {},
   "outputs": [
    {
     "name": "stdout",
     "output_type": "stream",
     "text": [
      "5\n",
      "2\n",
      "7\n",
      "3\n",
      "1\n",
      "4\n",
      "NO\n"
     ]
    }
   ],
   "source": [
    "n = int(input())\n",
    "data = []\n",
    "for i in range(n):\n",
    "    data.append(int(input()))\n",
    "data_ = data.copy()\n",
    "\n",
    "a = [float('inf')]\n",
    "b = [float('inf')]\n",
    "\n",
    "for cnt in range(len(data)):\n",
    "    if data[cnt] < a[-1]:\n",
    "        a.append(data[cnt])\n",
    "    if data[n - 1 - cnt] < b[-1]:\n",
    "        b.append(data[n - 1 - cnt])\n",
    "    \n",
    "if len(data) == len(a) + len(b) - 2:\n",
    "    print('YES')\n",
    "else:\n",
    "    print('NO')"
   ]
  },
  {
   "cell_type": "markdown",
   "metadata": {},
   "source": [
    "### 아.. 모르겠다 위에껀 내일 고쳐야지"
   ]
  },
  {
   "cell_type": "markdown",
   "metadata": {},
   "source": [
    "https://programmers.co.kr/learn/courses/30/lessons/42885"
   ]
  },
  {
   "cell_type": "code",
   "execution_count": 107,
   "metadata": {},
   "outputs": [],
   "source": [
    "def solution(people, limit):\n",
    "    answer = len(people)\n",
    "    people.sort(reverse = True)\n",
    "    \n",
    "    a = 0\n",
    "    b = answer  -1\n",
    "    while a < b : \n",
    "        if people[a]+people[b] <= limit :\n",
    "            b -= 1\n",
    "            answer -= 1\n",
    "        a += 1\n",
    "    return answer"
   ]
  },
  {
   "cell_type": "code",
   "execution_count": 108,
   "metadata": {},
   "outputs": [
    {
     "data": {
      "text/plain": [
       "3"
      ]
     },
     "execution_count": 108,
     "metadata": {},
     "output_type": "execute_result"
    }
   ],
   "source": [
    "solution([70,80,50], 100)"
   ]
  }
 ],
 "metadata": {
  "kernelspec": {
   "display_name": "Python 3",
   "language": "python",
   "name": "python3"
  },
  "language_info": {
   "codemirror_mode": {
    "name": "ipython",
    "version": 3
   },
   "file_extension": ".py",
   "mimetype": "text/x-python",
   "name": "python",
   "nbconvert_exporter": "python",
   "pygments_lexer": "ipython3",
   "version": "3.7.6"
  }
 },
 "nbformat": 4,
 "nbformat_minor": 4
}
