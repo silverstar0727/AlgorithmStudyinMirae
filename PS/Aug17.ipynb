{
 "cells": [
  {
   "cell_type": "markdown",
   "metadata": {},
   "source": [
    "https://programmers.co.kr/learn/courses/30/lessons/49191"
   ]
  },
  {
   "cell_type": "markdown",
   "metadata": {},
   "source": [
    "1. 4 -> 1,2,3,4    3 -> 2,3,4,5\n",
    "2. 2 -> 2,3,4,5    4 -> 1,2,3       3 -> 2,3,4,5\n",
    "3. 2 -> 3,4,5      4 -> 1,2,3       3 -> 2,3,4\n",
    "4. 1 -> 1,2,3,4    2 -> 4,5         4 -> 1,2,3       3 -> 2,3,4\n",
    "5. 5 -> 5          1 -> 1,2,3       2 -> 4           4 -> 1,2,3         3 -> 2,3"
   ]
  },
  {
   "cell_type": "code",
   "execution_count": 135,
   "metadata": {},
   "outputs": [],
   "source": [
    "# 틀림,.. ㅠㅠㅠ\n",
    "# 어케푸는거야 ㅠㅠㅠㅠㅠㅠㅠㅠ\n",
    "def solution(n, results):\n",
    "    ranking = {}\n",
    "    for i in results:\n",
    "        if i[0] in ranking:\n",
    "            ranking[i[0]][1][i[1]] = 0\n",
    "            del ranking[i[0]][0][-1]\n",
    "        else:\n",
    "            ranking[i[0]] = [[i for i in range(1, n)], {i[1]: 0}]\n",
    "            if i[1] in ranking:\n",
    "                ranking[i[0]] = [[i for i in range(1, max(ranking[i[1]][0]) - 1)], {i[1]: 0}]\n",
    "                for j in ranking[i[1]][1]:\n",
    "                    if j == 0:\n",
    "                        del ranking[j][0][-1]\n",
    "        if i[1] in ranking:\n",
    "            ranking[i[1]][1][i[0]] = 1\n",
    "            del ranking[i[1]][0][0]\n",
    "        else:\n",
    "            ranking[i[1]] = [[i for i in range(2, n + 1)], {i[0]: 1}]\n",
    "            if i[0] in ranking:\n",
    "                ranking[i[1]] = [[i for i in range(min(ranking[i[0]][0]) + 1, n + 1)], {i[0]: 1}]\n",
    "                for j in ranking[i[0]][1]:\n",
    "                    if ranking[i[0]][1][j] == 1:\n",
    "                        del ranking[j][0][-1]\n",
    "    answer = 0\n",
    "    for i in ranking:\n",
    "        if len(ranking[i][0]) == 1:\n",
    "            answer += 1\n",
    "    return answer"
   ]
  },
  {
   "cell_type": "code",
   "execution_count": 136,
   "metadata": {
    "scrolled": true
   },
   "outputs": [
    {
     "data": {
      "text/plain": [
       "2"
      ]
     },
     "execution_count": 136,
     "metadata": {},
     "output_type": "execute_result"
    }
   ],
   "source": [
    "solution(5, [[4,3], [4,2], [3,2], [1,2], [2,5]])"
   ]
  },
  {
   "cell_type": "code",
   "execution_count": 167,
   "metadata": {},
   "outputs": [],
   "source": [
    "# https://inspirit941.tistory.com/entry/Python-%ED%94%84%EB%A1%9C%EA%B7%B8%EB%9E%98%EB%A8%B8%EC%8A%A4-%EC%88%9C%EC%9C%84-Level-3\n",
    "# 솔루션..\n",
    "def solution(n, results):\n",
    "    wins, loses = {}, {}\n",
    "    \n",
    "    for i in range(1, n + 1):\n",
    "        wins[i], loses[i] = set(), set()\n",
    "    \n",
    "    for i in range(1, n + 1):\n",
    "        for battle in results:\n",
    "            if battle[0] == i:\n",
    "                wins[i].add(battle[1])\n",
    "            if battle[1] == i:\n",
    "                loses[i].add(battle[0])\n",
    "                \n",
    "        for winner in loses[i]:\n",
    "            wins[winner].update(wins[i])\n",
    "        for loser in wins[i]:\n",
    "            loses[loser].update(loses[i])\n",
    "            \n",
    "    cnt = 0\n",
    "    for i in range(1, n + 1):\n",
    "        if len(wins[i]) + len(loses[i]) == n - 1:\n",
    "            cnt += 1\n",
    "    return cnt"
   ]
  },
  {
   "cell_type": "code",
   "execution_count": 168,
   "metadata": {},
   "outputs": [
    {
     "data": {
      "text/plain": [
       "2"
      ]
     },
     "execution_count": 168,
     "metadata": {},
     "output_type": "execute_result"
    }
   ],
   "source": [
    "solution(5, [[4,3], [4,2], [3,2], [1,2], [2,5]])"
   ]
  },
  {
   "cell_type": "markdown",
   "metadata": {},
   "source": [
    "### 솔루션 로직\n",
    "1. 이긴 사람과 이기지 못한 사람들의 집합을 dictionary형태로 만듦\n",
    "2. 우선 results에서 단순하게 알 수 있는 경기의 결과를 1에서 만든 dict에 저장(단일 숫자이므로 add 사용)\n",
    "3. dict에서 진 상대방들은 승자에 해당하므로 이를 승자 dict에 저장(set이므로 update 사용), 반대도 마찬가지\n",
    "(set이므로 겹치는 것은 허용하지 않으므로 걱정하지 않아도 됨)\n",
    "4. win과 lose의 개수가 n - 1과 같은 것은 순위가 확실히 정해지는 것임"
   ]
  },
  {
   "cell_type": "code",
   "execution_count": null,
   "metadata": {},
   "outputs": [],
   "source": []
  },
  {
   "cell_type": "code",
   "execution_count": null,
   "metadata": {},
   "outputs": [],
   "source": []
  },
  {
   "cell_type": "code",
   "execution_count": null,
   "metadata": {},
   "outputs": [],
   "source": []
  }
 ],
 "metadata": {
  "kernelspec": {
   "display_name": "Python 3",
   "language": "python",
   "name": "python3"
  },
  "language_info": {
   "codemirror_mode": {
    "name": "ipython",
    "version": 3
   },
   "file_extension": ".py",
   "mimetype": "text/x-python",
   "name": "python",
   "nbconvert_exporter": "python",
   "pygments_lexer": "ipython3",
   "version": "3.7.6"
  }
 },
 "nbformat": 4,
 "nbformat_minor": 4
}
