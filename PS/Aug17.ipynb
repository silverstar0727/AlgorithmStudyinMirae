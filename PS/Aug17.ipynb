{
 "cells": [
  {
   "cell_type": "markdown",
   "metadata": {},
   "source": [
    "https://programmers.co.kr/learn/courses/30/lessons/49191"
   ]
  },
  {
   "cell_type": "markdown",
   "metadata": {},
   "source": [
    "1. 4 -> 1,2,3,4    3 -> 2,3,4,5\n",
    "2. 2 -> 2,3,4,5    4 -> 1,2,3       3 -> 2,3,4,5\n",
    "3. 2 -> 3,4,5      4 -> 1,2,3       3 -> 2,3,4\n",
    "4. 1 -> 1,2,3,4    2 -> 4,5         4 -> 1,2,3       3 -> 2,3,4\n",
    "5. 5 -> 5          1 -> 1,2,3       2 -> 4           4 -> 1,2,3         3 -> 2,3"
   ]
  },
  {
   "cell_type": "code",
   "execution_count": 135,
   "metadata": {},
   "outputs": [],
   "source": [
    "# 틀림,.. ㅠㅠㅠ\n",
    "# 어케푸는거야 ㅠㅠㅠㅠㅠㅠㅠㅠ\n",
    "def solution(n, results):\n",
    "    ranking = {}\n",
    "    for i in results:\n",
    "        if i[0] in ranking:\n",
    "            ranking[i[0]][1][i[1]] = 0\n",
    "            del ranking[i[0]][0][-1]\n",
    "        else:\n",
    "            ranking[i[0]] = [[i for i in range(1, n)], {i[1]: 0}]\n",
    "            if i[1] in ranking:\n",
    "                ranking[i[0]] = [[i for i in range(1, max(ranking[i[1]][0]) - 1)], {i[1]: 0}]\n",
    "                for j in ranking[i[1]][1]:\n",
    "                    if j == 0:\n",
    "                        del ranking[j][0][-1]\n",
    "        if i[1] in ranking:\n",
    "            ranking[i[1]][1][i[0]] = 1\n",
    "            del ranking[i[1]][0][0]\n",
    "        else:\n",
    "            ranking[i[1]] = [[i for i in range(2, n + 1)], {i[0]: 1}]\n",
    "            if i[0] in ranking:\n",
    "                ranking[i[1]] = [[i for i in range(min(ranking[i[0]][0]) + 1, n + 1)], {i[0]: 1}]\n",
    "                for j in ranking[i[0]][1]:\n",
    "                    if ranking[i[0]][1][j] == 1:\n",
    "                        del ranking[j][0][-1]\n",
    "    answer = 0\n",
    "    for i in ranking:\n",
    "        if len(ranking[i][0]) == 1:\n",
    "            answer += 1\n",
    "    return answer"
   ]
  },
  {
   "cell_type": "code",
   "execution_count": 136,
   "metadata": {
    "scrolled": true
   },
   "outputs": [
    {
     "data": {
      "text/plain": [
       "2"
      ]
     },
     "execution_count": 136,
     "metadata": {},
     "output_type": "execute_result"
    }
   ],
   "source": [
    "solution(5, [[4,3], [4,2], [3,2], [1,2], [2,5]])"
   ]
  },
  {
   "cell_type": "code",
   "execution_count": 167,
   "metadata": {},
   "outputs": [],
   "source": [
    "# https://inspirit941.tistory.com/entry/Python-%ED%94%84%EB%A1%9C%EA%B7%B8%EB%9E%98%EB%A8%B8%EC%8A%A4-%EC%88%9C%EC%9C%84-Level-3\n",
    "# 솔루션..\n",
    "def solution(n, results):\n",
    "    wins, loses = {}, {}\n",
    "    \n",
    "    for i in range(1, n + 1):\n",
    "        wins[i], loses[i] = set(), set()\n",
    "    \n",
    "    for i in range(1, n + 1):\n",
    "        for battle in results:\n",
    "            if battle[0] == i:\n",
    "                wins[i].add(battle[1])\n",
    "            if battle[1] == i:\n",
    "                loses[i].add(battle[0])\n",
    "                \n",
    "        for winner in loses[i]:\n",
    "            wins[winner].update(wins[i])\n",
    "        for loser in wins[i]:\n",
    "            loses[loser].update(loses[i])\n",
    "            \n",
    "    cnt = 0\n",
    "    for i in range(1, n + 1):\n",
    "        if len(wins[i]) + len(loses[i]) == n - 1:\n",
    "            cnt += 1\n",
    "    return cnt"
   ]
  },
  {
   "cell_type": "code",
   "execution_count": 168,
   "metadata": {},
   "outputs": [
    {
     "data": {
      "text/plain": [
       "2"
      ]
     },
     "execution_count": 168,
     "metadata": {},
     "output_type": "execute_result"
    }
   ],
   "source": [
    "solution(5, [[4,3], [4,2], [3,2], [1,2], [2,5]])"
   ]
  },
  {
   "cell_type": "markdown",
   "metadata": {},
   "source": [
    "### 솔루션 로직\n",
    "1. 이긴 사람과 이기지 못한 사람들의 집합을 dictionary형태로 만듦\n",
    "2. 우선 results에서 단순하게 알 수 있는 경기의 결과를 1에서 만든 dict에 저장(단일 숫자이므로 add 사용)\n",
    "3. dict에서 진 상대방들은 승자에 해당하므로 이를 승자 dict에 저장(set이므로 update 사용), 반대도 마찬가지\n",
    "(set이므로 겹치는 것은 허용하지 않으므로 걱정하지 않아도 됨)\n",
    "4. win과 lose의 개수가 n - 1과 같은 것은 순위가 확실히 정해지는 것임"
   ]
  },
  {
   "cell_type": "markdown",
   "metadata": {},
   "source": [
    "https://www.acmicpc.net/problem/14889"
   ]
  },
  {
   "cell_type": "markdown",
   "metadata": {},
   "source": [
    "## 솔루션 로직\n",
    "숫자가 그리크지 않은 20이 최대니 조합을 이용해 가능한 모든 경우를 탐색하는 브루트 포스 알고리즘을 적용한다. 이때 경우의 수는 $n \\choose n//2$ 이다."
   ]
  },
  {
   "cell_type": "code",
   "execution_count": null,
   "metadata": {},
   "outputs": [],
   "source": [
    "from itertools import combinations\n",
    "from collections import deque\n",
    "import sys\n",
    "\n",
    "# 능력치 합 구하기\n",
    "def(x-team, S):\n",
    "    n = len(x_team)\n",
    "    sumv = 0\n",
    "    for x in range(0, n - 1):\n",
    "        for y in range(x + 1, n):\n",
    "            sumv = sumv + S[x_team[x]][x_team[y]] + S[x_team[y]][x_team[x]]\n",
    "    return sumv\n",
    "\n",
    "if __name__ == '__main__':\n",
    "    N = int(input()) # 사람수\n",
    "    S = [list(map(int, input().split())) for _ in range(N)] # 능력치\n",
    "    A = [int(i) for i in range(N)] # 각 선수에게 숫자부여\n",
    "    team = deque(combinations(A, N // 2))\n",
    "    minv = sys.maxsize # 업데이트가 필요한 값\n",
    "    \n",
    "    start_team = deque()\n",
    "    link_team = deque()\n",
    "    for _ in range(len(team)//2):\n",
    "        start_team.append(team.popleft())\n",
    "        link_team.append(team.pop())\n",
    "    for i in range(len(start_team)):\n",
    "        answerv = abs(ability(start_team[i],S) - ability(link_team[i],S))\n",
    "        if answerv < minv:\n",
    "            minv = answerv\n",
    "    print(minv)"
   ]
  },
  {
   "cell_type": "markdown",
   "metadata": {},
   "source": [
    "https://www.acmicpc.net/problem/2606"
   ]
  },
  {
   "cell_type": "code",
   "execution_count": 11,
   "metadata": {},
   "outputs": [
    {
     "name": "stdout",
     "output_type": "stream",
     "text": [
      "7\n",
      "6\n",
      "1 2\n",
      "2 3\n",
      "1 5\n",
      "5 2\n",
      "5 6\n",
      "4 7\n",
      "4\n"
     ]
    }
   ],
   "source": [
    "## 내풀이 왜틀린걸까.. ㅠ\n",
    "n = int(input())\n",
    "m = int(input())\n",
    "\n",
    "tree = {1: set([1])}\n",
    "for i in range(m):\n",
    "    a, b = map(int, input().split())\n",
    "    if a in tree[1] or b in tree[1]:\n",
    "        tree[1].update([a, b])\n",
    "        \n",
    "print(len(tree[1]) - 1)"
   ]
  },
  {
   "cell_type": "code",
   "execution_count": null,
   "metadata": {},
   "outputs": [
    {
     "name": "stdout",
     "output_type": "stream",
     "text": [
      "sdf\n"
     ]
    }
   ],
   "source": [
    "# DFS 적용\n",
    "n = int(input())\n",
    "m = int(input())\n",
    "\n",
    "# tree 만들기\n",
    "tree = {}\n",
    "for i in range(n):\n",
    "    tree[i + 1] = set()\n",
    "    \n",
    "# tree에 데이터 집어넣기\n",
    "for i in range(m):\n",
    "    a, b = map(int, input().split())\n",
    "    tree[a].update([a, b])\n",
    "    tree[b].update([a, b])\n",
    "    \n",
    "# DFS\n",
    "def DFS(tree):\n",
    "    need_visit = [1]\n",
    "    visited = []\n",
    "    \n",
    "    while need_visit:\n",
    "        node = need_visit.pop()\n",
    "        \n",
    "        if node not in visited:\n",
    "            visited.append(node)\n",
    "            need_visit.extend(tree[node])\n",
    "    return len(visited) - 1\n",
    "\n",
    "print(DFS(tree))"
   ]
  },
  {
   "cell_type": "code",
   "execution_count": 1,
   "metadata": {},
   "outputs": [
    {
     "name": "stdout",
     "output_type": "stream",
     "text": [
      "7\n",
      "6\n",
      "1 2\n",
      "2 3\n",
      "1 5\n",
      "5 2\n",
      "5 6\n",
      "4 7\n"
     ]
    },
    {
     "data": {
      "text/plain": [
       "4"
      ]
     },
     "execution_count": 1,
     "metadata": {},
     "output_type": "execute_result"
    }
   ],
   "source": [
    "# BFS 적용\n",
    "n = int(input())\n",
    "m = int(input())\n",
    "\n",
    "# tree 만들기\n",
    "tree = {}\n",
    "for i in range(n):\n",
    "    tree[i + 1] = set()\n",
    "    \n",
    "# tree에 데이터 집어넣기\n",
    "for i in range(m):\n",
    "    a, b = map(int, input().split())\n",
    "    tree[a].update([a, b])\n",
    "    tree[b].update([a, b])\n",
    "    \n",
    "# BFS\n",
    "def BFS(tree):\n",
    "    need_visit = [1]\n",
    "    visited = []\n",
    "    \n",
    "    while need_visit:\n",
    "        node = need_visit.pop(0)\n",
    "        if node not in visited:\n",
    "            visited.append(node)\n",
    "            need_visit.extend(tree[node])\n",
    "    \n",
    "    return len(visited) - 1\n",
    "print(BFS(tree))"
   ]
  }
 ],
 "metadata": {
  "kernelspec": {
   "display_name": "Python 3",
   "language": "python",
   "name": "python3"
  },
  "language_info": {
   "codemirror_mode": {
    "name": "ipython",
    "version": 3
   },
   "file_extension": ".py",
   "mimetype": "text/x-python",
   "name": "python",
   "nbconvert_exporter": "python",
   "pygments_lexer": "ipython3",
   "version": "3.7.6"
  }
 },
 "nbformat": 4,
 "nbformat_minor": 4
}
