{
 "cells": [
  {
   "cell_type": "markdown",
   "metadata": {},
   "source": [
    "https://devth-preview.goorm.io/exam/53763/%EC%A3%BC-%EA%B5%AC%EB%A5%B4%EB%AF%B8-%EC%8B%A0%EC%9E%85-%EA%B0%9C%EB%B0%9C%EC%9E%90-%EA%B3%B5%EA%B0%9C%EC%B1%84%EC%9A%A9-%EC%BD%94%EB%94%A9%ED%85%8C%EC%8A%A4%ED%8A%B8/quiz/4"
   ]
  },
  {
   "cell_type": "code",
   "execution_count": null,
   "metadata": {},
   "outputs": [],
   "source": [
    "n, k = map(int, input().split())\n",
    "data = list(range(n))\n",
    "\n",
    "max_ = sum(data[-1-k:])\n",
    "\n",
    "N_ = []\n",
    "x = 0\n",
    "while True:\n",
    "\tif x * n > max_:\n",
    "\t\tbreak\n",
    "\tN_.append(x * n)\n"
   ]
  },
  {
   "cell_type": "markdown",
   "metadata": {},
   "source": [
    "https://www.acmicpc.net/problem/2579"
   ]
  },
  {
   "cell_type": "code",
   "execution_count": 3,
   "metadata": {},
   "outputs": [
    {
     "name": "stdout",
     "output_type": "stream",
     "text": [
      "6\n",
      "10\n",
      "20\n",
      "15\n",
      "25\n",
      "10\n",
      "20\n",
      "75\n"
     ]
    }
   ],
   "source": [
    "# sol1\n",
    "def solve(data, n):\n",
    "    dp = []\n",
    "    dp.append(data[0])\n",
    "    for i in range(1, 3):\n",
    "        if i == 1:\n",
    "            dp.append(max(dp[i - 1] + data[i], data[i]))\n",
    "            continue\n",
    "        dp.append(max(dp[i - 2] + data[i], data[i - 1] + data[i]))\n",
    "    for i in range(3, n):\n",
    "        dp.append(max(data[i] + data[i - 1] + dp[i - 3], data[i] + dp[i - 2]))\n",
    "    print(dp[-1])\n",
    "    \n",
    "if __name__ == '__main__':\n",
    "    n = int(input())\n",
    "    data = [int(input()) for _ in range(n)]\n",
    "\n",
    "    solve(data, n)"
   ]
  },
  {
   "cell_type": "code",
   "execution_count": null,
   "metadata": {},
   "outputs": [],
   "source": [
    "# sol 2\n",
    "N = int(input())\n",
    "stair_score = [int(input()) for _ in range(N)]\n",
    "dp = []\n",
    "\n",
    "# init : for-loop에서 전칸 + 전전칸(i-3)의 경우를 생각하게 되므로\n",
    "# 총 3개의 init값을 저장해 두어야 한다. \n",
    "# 1 : 첫 칸\n",
    "# 2 : 첫 칸 + 다음 칸\n",
    "# 3 : max(시작 위치 + 1칸 + 2칸의 경우, 2칸 + 한칸의 경우)\n",
    "dp.append(stair_score[0])\n",
    "dp.append(dp[0] + stair_score[1])\n",
    "dp.append(max(dp[0] + stair_score[2], stair_score[1] + stair_score[2]))\n",
    "\n",
    "for i in range(3, N):\n",
    "    # 1 : 현재 위치에서 전칸을 밟아 올라온 경우 + 전전칸을 밟은 경우의 최댓값\n",
    "    # 2 : 현재 위치 + 전전칸에서 올라온 경우\n",
    "    dp.append(max(stair_score[i] + stair_score[i - 1] + dp[i - 3], stair_score[i] + dp[i - 2]))\n",
    "print(dp[-1])"
   ]
  },
  {
   "cell_type": "code",
   "execution_count": null,
   "metadata": {},
   "outputs": [],
   "source": [
    "# sol 3\n",
    "n = int(input())\n",
    "s = [0 for i in range(301)]\n",
    "dp = [0 for i in range(301)]\n",
    "for i in range(n):\n",
    "    s[i] = int(input())\n",
    "dp[0] = s[0]\n",
    "dp[1] = s[0] + s[1]\n",
    "dp[2] = max(s[1] + s[2], s[0] + s[2])\n",
    "for i in range(3, n):\n",
    "    dp[i] = max(dp[i - 3] + s[i - 1] + s[i], dp[i - 2] + s[i])\n",
    "print(dp[n - 1])"
   ]
  },
  {
   "cell_type": "markdown",
   "metadata": {},
   "source": [
    "https://www.acmicpc.net/problem/1463"
   ]
  },
  {
   "cell_type": "markdown",
   "metadata": {},
   "source": [
    "![image](https://user-images.githubusercontent.com/49096513/90614843-28e66f80-e246-11ea-9ff6-12a19373e335.png)\n"
   ]
  },
  {
   "cell_type": "code",
   "execution_count": null,
   "metadata": {},
   "outputs": [],
   "source": [
    "def min(x, y):\n",
    "    return x if x <= y else y\n",
    " \n",
    "x = int(input())\n",
    " \n",
    "minimum_count = [ 0 for _ in range(x+1)]\n",
    " \n",
    "index = 0\n",
    "while(True):\n",
    "    if index > x:\n",
    "        break\n",
    " \n",
    "    if index <= 1:\n",
    "        minimum_count[index] = 0\n",
    "    else:\n",
    "        temp_min = x + 1\n",
    "        if index % 3 == 0:\n",
    "            temp_index = int(index/3)\n",
    "            temp_min = min(temp_min, minimum_count[temp_index])\n",
    " \n",
    "        if index % 2 == 0:\n",
    "            temp_index = int(index/2)\n",
    "            temp_min = min(temp_min, minimum_count[temp_index])\n",
    " \n",
    "        temp_min = min(temp_min, minimum_count[index-1])\n",
    "        minimum_count[index] = int(temp_min + 1)\n",
    "    index = index + 1\n",
    " \n",
    "print(minimum_count[x])"
   ]
  },
  {
   "cell_type": "markdown",
   "metadata": {},
   "source": [
    "https://www.acmicpc.net/problem/16569"
   ]
  },
  {
   "cell_type": "code",
   "execution_count": 1,
   "metadata": {},
   "outputs": [
    {
     "name": "stdout",
     "output_type": "stream",
     "text": [
      "5 9\n",
      "0 0 0 0 0\n",
      "0\n",
      "[0, 0, 0, 0, 0]\n",
      "0\n",
      "1 4\n",
      "0\n",
      "[0, 0, 0, 0, 1]\n",
      "1\n",
      "a\n",
      "[0, 0, 0, 0, 1]\n",
      "1\n",
      "a\n",
      "[0, 0, 0, 0, 1]\n",
      "1\n",
      "a\n",
      "[0, 0, 0, 0, 1]\n",
      "1\n",
      "\n",
      "a\n",
      "[0, 0, 0, 0, 1]\n",
      "1\n",
      "a\n",
      "[0, 0, 0, 0, 1]\n",
      "1\n"
     ]
    }
   ],
   "source": [
    "n, m = map(int, input().split())\n",
    "road = list(map(int, input().split()))\n",
    "\n",
    "def zero(road):\n",
    "    count = 0\n",
    "    for i in range(1, n):\n",
    "        if road[i - 1] != road[i]:\n",
    "            count += 1\n",
    "    print(road)\n",
    "    if road[0] == 0:\n",
    "        if count % 2 == 0:\n",
    "            print(count // 2)\n",
    "        else:\n",
    "            print(count // 2 + 1)\n",
    "    if road[0] == 1:\n",
    "        if count % 2 == 0:\n",
    "            print(count // 2 + 1)\n",
    "        else:\n",
    "            print(count // 2 + 1)\n",
    "        \n",
    "for j in range(m):\n",
    "    k = list(input())\n",
    "    if len(k) == 3:\n",
    "        road[int(k[2])] = 1\n",
    "    if len(k) == 1:\n",
    "        zero(road)\n",
    "        "
   ]
  },
  {
   "cell_type": "code",
   "execution_count": null,
   "metadata": {},
   "outputs": [],
   "source": []
  },
  {
   "cell_type": "code",
   "execution_count": null,
   "metadata": {},
   "outputs": [],
   "source": []
  }
 ],
 "metadata": {
  "kernelspec": {
   "display_name": "Python 3",
   "language": "python",
   "name": "python3"
  },
  "language_info": {
   "codemirror_mode": {
    "name": "ipython",
    "version": 3
   },
   "file_extension": ".py",
   "mimetype": "text/x-python",
   "name": "python",
   "nbconvert_exporter": "python",
   "pygments_lexer": "ipython3",
   "version": "3.7.6"
  }
 },
 "nbformat": 4,
 "nbformat_minor": 4
}
