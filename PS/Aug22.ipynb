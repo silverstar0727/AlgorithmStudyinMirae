{
 "cells": [
  {
   "cell_type": "markdown",
   "metadata": {},
   "source": [
    "https://www.acmicpc.net/problem/11066"
   ]
  },
  {
   "cell_type": "code",
   "execution_count": null,
   "metadata": {},
   "outputs": [],
   "source": [
    "# 내코드... 틀림.. 경우를 너무 구체적으로 나눠야하고 타임에러가 무조건 발생할 것 같음\n",
    "def main(prev):\n",
    "    total_cost = 0\n",
    "    while True:\n",
    "        current = []\n",
    "        prev.sort()\n",
    "        print(prev)\n",
    "\n",
    "        for i in range(0, len(prev)-1, 2):\n",
    "            if i < len(prev) - 3:\n",
    "                if prev[i + 1] + prev[i] > prev[i + 2]:\n",
    "                    current.append(prev[i] + prev[i + 1])\n",
    "            current.append(prev[i])\n",
    "            current.append(prev[i + 1])\n",
    "        if len(prev) % 2 == 1:\n",
    "            current.append(prev[-1])\n",
    "            prev = current\n",
    "            total_cost += (sum(prev) - prev[-1])\n",
    "        else:\n",
    "            prev = current\n",
    "            total_cost += sum(prev)\n",
    "\n",
    "        if len(current) == 1:\n",
    "            print(total_cost)\n",
    "            break\n",
    "            \n",
    "n = int(input())\n",
    "for i in range(n):\n",
    "    x = int(input())\n",
    "    prev = list(map(int, input().split()))\n",
    "    main(prev)"
   ]
  },
  {
   "cell_type": "code",
   "execution_count": 3,
   "metadata": {},
   "outputs": [
    {
     "name": "stdout",
     "output_type": "stream",
     "text": [
      "2\n",
      "4\n",
      "40 30 30 50\n",
      "300\n",
      "15\n",
      "1 21 3 4 5 35 5 4 3 5 98 21 14 17 32\n",
      "864\n"
     ]
    }
   ],
   "source": [
    "## 솔루션 유익한 사이트\n",
    "# https://data-make.tistory.com/402\n",
    "def solve():\n",
    "    n, a = int(input()), [0] + list(map(int, input().split()))\n",
    "    s = [0 for _ in range(n + 1)]\n",
    "    \n",
    "    for i in range(1, n + 1):\n",
    "        s[i] = s[i - 1] + a[i]\n",
    "    \n",
    "    dp = [[0 for i in range(n + 1)] for _ in range(n + 1)]\n",
    "    for i in range(2, n + 1):\n",
    "        for j in range(1, n + 2 - i):\n",
    "            dp[j][j + i -1] = min([dp[j][j + k] + dp[j + k + 1][j + i - 1]\n",
    "                                  for k in range(i - 1)]) + (s[j + i - 1] - s[j - 1]) \n",
    "            \n",
    "    print(dp[1][n])\n",
    "    \n",
    "for _ in range(int(input())):\n",
    "    solve()"
   ]
  },
  {
   "cell_type": "markdown",
   "metadata": {},
   "source": [
    "https://www.acmicpc.net/problem/11049"
   ]
  },
  {
   "cell_type": "code",
   "execution_count": 21,
   "metadata": {},
   "outputs": [
    {
     "name": "stdout",
     "output_type": "stream",
     "text": [
      "5 6\n",
      "1\n",
      "5 1 1\n",
      "1 2 2\n",
      "1 3 3\n",
      "2 3 4\n",
      "2 4 5\n",
      "3 4 6\n",
      "0\n",
      "2\n",
      "3\n",
      "7\n",
      "INF\n"
     ]
    }
   ],
   "source": [
    "import heapq\n",
    "\n",
    "def dijkstra(graph, start):\n",
    "    \n",
    "    distances = {node: float('inf') for node in graph}\n",
    "    distances[start] = 0\n",
    "    queue = []\n",
    "    heapq.heappush(queue, [distances[start], start])\n",
    "    \n",
    "    while queue:\n",
    "        current_distance, current_node = heapq.heappop(queue)\n",
    "        \n",
    "        if distances[current_node] < current_distance:\n",
    "            continue\n",
    "            \n",
    "        for adjacent, weight in graph[current_node].items():\n",
    "            distance = current_distance + weight\n",
    "            \n",
    "            if distance < distances[adjacent]:\n",
    "                distances[adjacent] = distance\n",
    "                heapq.heappush(queue, [distance, adjacent])\n",
    "                \n",
    "    return distances\n",
    "\n",
    "v, e = map(int, input().split())\n",
    "start = int(input())\n",
    "graph = {}\n",
    "\n",
    "for i in range(v):\n",
    "    graph[i + 1] = {}\n",
    "    \n",
    "for i in range(e):\n",
    "    u, v_, w = map(int, input().split())\n",
    "    graph[u][v_] = w\n",
    "\n",
    "l = dijkstra(graph, 1)\n",
    "for i in l:\n",
    "    if l[i] == float('inf'):\n",
    "        print('INF')\n",
    "    else:\n",
    "        print(l[i])"
   ]
  },
  {
   "cell_type": "code",
   "execution_count": null,
   "metadata": {},
   "outputs": [],
   "source": []
  }
 ],
 "metadata": {
  "kernelspec": {
   "display_name": "Python 3",
   "language": "python",
   "name": "python3"
  },
  "language_info": {
   "codemirror_mode": {
    "name": "ipython",
    "version": 3
   },
   "file_extension": ".py",
   "mimetype": "text/x-python",
   "name": "python",
   "nbconvert_exporter": "python",
   "pygments_lexer": "ipython3",
   "version": "3.7.6"
  }
 },
 "nbformat": 4,
 "nbformat_minor": 4
}
