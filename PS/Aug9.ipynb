{
  "nbformat": 4,
  "nbformat_minor": 0,
  "metadata": {
    "colab": {
      "name": "algorithm study Aug9.ipynb",
      "provenance": [],
      "collapsed_sections": []
    },
    "kernelspec": {
      "name": "python3",
      "display_name": "Python 3"
    }
  },
  "cells": [
    {
      "cell_type": "markdown",
      "metadata": {
        "id": "XgOevIXhxnNQ",
        "colab_type": "text"
      },
      "source": [
        "https://www.acmicpc.net/problem/2309"
      ]
    },
    {
      "cell_type": "code",
      "metadata": {
        "id": "UBhbKlVZKkNz",
        "colab_type": "code",
        "colab": {
          "base_uri": "https://localhost:8080/",
          "height": 143
        },
        "outputId": "9085958d-1b7d-43d5-83d8-53a0f3f5b9ba"
      },
      "source": [
        "# 7개를 고르는 것 보단 2개를 빼는게 더 쉬울듯...\n",
        "data = []\n",
        "\n",
        "for i in range(9):\n",
        "  data.append(int(input()))\n",
        "\n",
        "data = [20, 7, 23, 19, 10, 15, 25, 8, 13]\n",
        "\n",
        "data.sort() # 오름차순 정렬\n",
        "sum_all = sum(data)\n",
        "\n",
        "# 잘못된 2개를 이중 for문을 적용하여 찾기 - 조합....\n",
        "for i in range(9): \n",
        "  for j in range(i + 1, 9):\n",
        "    if sum_all - data[i] - data[j] == 100:\n",
        "      # 데이터 복사 - 그냥 바로 제거하면 인덱스가 변해서 슬라이싱이 복잡해짐\n",
        "      data_ = data.copy()\n",
        "\n",
        "      # 잘못된 데이터 제거\n",
        "      data_.remove(data[i])\n",
        "      data_.remove(data[j])\n",
        "      for l in data_:\n",
        "        print(l)\n",
        "\n",
        "      exit()"
      ],
      "execution_count": null,
      "outputs": [
        {
          "output_type": "stream",
          "text": [
            "7\n",
            "8\n",
            "10\n",
            "13\n",
            "19\n",
            "20\n",
            "23\n"
          ],
          "name": "stdout"
        }
      ]
    },
    {
      "cell_type": "markdown",
      "metadata": {
        "id": "RGOuwblF1jgZ",
        "colab_type": "text"
      },
      "source": [
        "https://programmers.co.kr/learn/courses/30/lessons/42748?language=python3"
      ]
    },
    {
      "cell_type": "code",
      "metadata": {
        "id": "UjDTZcnjPkYK",
        "colab_type": "code",
        "colab": {}
      },
      "source": [
        "def solution(array, commands):\n",
        "    answer = []\n",
        "    for m in range(len(commands)):\n",
        "        i, j, k = map(int, commands[m])\n",
        "        x = sorted(array[i - 1 : j])\n",
        "        answer.append(x[k - 1])\n",
        "    return answer"
      ],
      "execution_count": null,
      "outputs": []
    },
    {
      "cell_type": "code",
      "metadata": {
        "id": "zvRqmJQ_zNmi",
        "colab_type": "code",
        "colab": {
          "base_uri": "https://localhost:8080/",
          "height": 35
        },
        "outputId": "61bb2237-bc13-49f6-fcc8-e6555b661e9f"
      },
      "source": [
        "solution([1,5,2,6,3,7,4], [[2,5,3], [4,4,1], [1,7,3]])"
      ],
      "execution_count": null,
      "outputs": [
        {
          "output_type": "execute_result",
          "data": {
            "text/plain": [
              "[5, 6, 3]"
            ]
          },
          "metadata": {
            "tags": []
          },
          "execution_count": 46
        }
      ]
    },
    {
      "cell_type": "markdown",
      "metadata": {
        "id": "gMwsZceO-Ine",
        "colab_type": "text"
      },
      "source": [
        "https://programmers.co.kr/learn/courses/30/lessons/42747"
      ]
    },
    {
      "cell_type": "code",
      "metadata": {
        "id": "FPZOUxjLzTwd",
        "colab_type": "code",
        "colab": {}
      },
      "source": [
        "def solution(citations):\n",
        "    citations.sort()\n",
        "    h = []\n",
        "    for i in range(len(citations)):\n",
        "      x = len(citations[i:])\n",
        "      h.append(min([citations[i], x]))\n",
        "      \n",
        "    answer = max(h)\n",
        "    \n",
        "    return answer"
      ],
      "execution_count": null,
      "outputs": []
    },
    {
      "cell_type": "code",
      "metadata": {
        "id": "v77dpxNW4BGx",
        "colab_type": "code",
        "colab": {
          "base_uri": "https://localhost:8080/",
          "height": 53
        },
        "outputId": "45e9a429-1586-419f-c72a-c17c2d5dec20"
      },
      "source": [
        "solution([3, 0, 6, 1, 5])"
      ],
      "execution_count": null,
      "outputs": [
        {
          "output_type": "stream",
          "text": [
            "[0, 1, 3, 2, 1]\n"
          ],
          "name": "stdout"
        },
        {
          "output_type": "execute_result",
          "data": {
            "text/plain": [
              "3"
            ]
          },
          "metadata": {
            "tags": []
          },
          "execution_count": 66
        }
      ]
    },
    {
      "cell_type": "markdown",
      "metadata": {
        "id": "7s98ams--NZx",
        "colab_type": "text"
      },
      "source": [
        "https://programmers.co.kr/learn/courses/30/lessons/43236"
      ]
    },
    {
      "cell_type": "code",
      "metadata": {
        "id": "QY3EsdZ06L07",
        "colab_type": "code",
        "colab": {}
      },
      "source": [
        "from itertools import combinations\n",
        "\n",
        "def solution(distance, rocks, n):\n",
        "    rocks.sort()\n",
        "    k = len(rocks) - n\n",
        "    C_rocks = list(combinations(rocks, k))\n",
        "\n",
        "    dis = []\n",
        "    for rocks_ in C_rocks:\n",
        "      x = []\n",
        "      for i in range(k):\n",
        "        if i == 0:\n",
        "          x.append(rocks_[i])\n",
        "        elif 0 < i < k - 1:\n",
        "          x.append(rocks_[i] - rocks_[i - 1])\n",
        "        else:\n",
        "          x.append(distance - rocks_[i])\n",
        "      \n",
        "      dis.append(min(x))\n",
        "    \n",
        "    answer = max(dis)\n",
        "    return answer\n",
        "\n",
        "\n",
        "  # 시간초과... 더러운 파이썬..."
      ],
      "execution_count": null,
      "outputs": []
    },
    {
      "cell_type": "code",
      "metadata": {
        "id": "grFQtNx6BRPn",
        "colab_type": "code",
        "colab": {
          "base_uri": "https://localhost:8080/",
          "height": 35
        },
        "outputId": "a7cb7203-b4dc-4467-fff6-b92b0fcc28c0"
      },
      "source": [
        "solution(25, [2,14,11,21,17], 2)"
      ],
      "execution_count": null,
      "outputs": [
        {
          "output_type": "execute_result",
          "data": {
            "text/plain": [
              "4"
            ]
          },
          "metadata": {
            "tags": []
          },
          "execution_count": 114
        }
      ]
    }
  ]
}
