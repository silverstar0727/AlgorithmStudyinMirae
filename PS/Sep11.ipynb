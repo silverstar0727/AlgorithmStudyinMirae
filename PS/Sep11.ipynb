{
 "cells": [
  {
   "cell_type": "code",
   "execution_count": null,
   "metadata": {},
   "outputs": [],
   "source": [
    "import sys\n",
    "from collections import deque\n",
    "input = sys.stdin.readline\n",
    "dx = [1, -1, 0, 0]\n",
    "dy = [0, 0, -1, 1]\n",
    "def bfs():\n",
    "    q = deque()\n",
    "    q.append([0, 0, 1])\n",
    "    visit = [[[0] * 2 for i in range(m)] for i in range(n)]\n",
    "    visit[0][0][1] = 1\n",
    "    while q:\n",
    "        a, b, w = q.popleft()\n",
    "        if a == n - 1 and b == m - 1:\n",
    "            return visit[a][b][w]\n",
    "        for i in range(4):\n",
    "            x = a + dx[i]\n",
    "            y = b + dy[i]\n",
    "            if 0 <= x < n and 0 <= y < m:\n",
    "                if s[x][y] == 1 and w == 1:\n",
    "                    visit[x][y][0] = visit[a][b][1] + 1\n",
    "                    q.append([x, y, 0])\n",
    "                elif s[x][y] == 0 and visit[x][y][w] == 0:\n",
    "                    visit[x][y][w] = visit[a][b][w] + 1\n",
    "                    q.append([x, y, w])\n",
    "    return -1\n",
    "n, m = map(int, input().split())\n",
    "s = []\n",
    "for i in range(n):\n",
    "    s.append(list(map(int, list(input().strip()))))\n",
    "print(bfs())"
   ]
  }
 ],
 "metadata": {
  "kernelspec": {
   "display_name": "Python 3",
   "language": "python",
   "name": "python3"
  },
  "language_info": {
   "codemirror_mode": {
    "name": "ipython",
    "version": 3
   },
   "file_extension": ".py",
   "mimetype": "text/x-python",
   "name": "python",
   "nbconvert_exporter": "python",
   "pygments_lexer": "ipython3",
   "version": "3.7.6"
  }
 },
 "nbformat": 4,
 "nbformat_minor": 4
}
