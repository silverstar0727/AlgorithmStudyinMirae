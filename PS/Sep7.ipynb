{
 "cells": [
  {
   "cell_type": "markdown",
   "metadata": {},
   "source": [
    "https://www.acmicpc.net/problem/7576"
   ]
  },
  {
   "cell_type": "code",
   "execution_count": null,
   "metadata": {},
   "outputs": [],
   "source": [
    "from collections import deque\n",
    "m, n = map(int, input().split())\n",
    "s = []\n",
    "queue = deque()\n",
    "dx = [1, -1, 0, 0]\n",
    "dy = [0, 0, -1, 1]\n",
    "for i in range(n):\n",
    "    s.append(list(map(int, input().split())))\n",
    "def bfs():\n",
    "    while queue:\n",
    "        a, b = queue.popleft()\n",
    "        for i in range(4):\n",
    "            x = a + dx[i]\n",
    "            y = b + dy[i]\n",
    "            if 0 <= x < n and 0 <= y < m and s[x][y] == 0:\n",
    "                s[x][y] = s[a][b] + 1\n",
    "                queue.append([x, y])\n",
    "for i in range(n):\n",
    "    for j in range(m):\n",
    "        if s[i][j] == 1:\n",
    "            queue.append([i, j])\n",
    "bfs()\n",
    "isTrue = False\n",
    "result = -2\n",
    "for i in s:\n",
    "    for j in i:\n",
    "        if j == 0:\n",
    "            isTrue = True\n",
    "        result = max(result, j)\n",
    "if isTrue == True:\n",
    "    print(-1)\n",
    "elif result == -1:\n",
    "    print(0)\n",
    "else:\n",
    "    print(result - 1)"
   ]
  },
  {
   "cell_type": "code",
   "execution_count": null,
   "metadata": {},
   "outputs": [],
   "source": []
  }
 ],
 "metadata": {
  "kernelspec": {
   "display_name": "Python 3",
   "language": "python",
   "name": "python3"
  },
  "language_info": {
   "codemirror_mode": {
    "name": "ipython",
    "version": 3
   },
   "file_extension": ".py",
   "mimetype": "text/x-python",
   "name": "python",
   "nbconvert_exporter": "python",
   "pygments_lexer": "ipython3",
   "version": "3.7.6"
  }
 },
 "nbformat": 4,
 "nbformat_minor": 4
}
