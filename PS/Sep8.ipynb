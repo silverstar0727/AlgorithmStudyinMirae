{
 "cells": [
  {
   "cell_type": "markdown",
   "metadata": {},
   "source": [
    "https://www.acmicpc.net/problem/11049"
   ]
  },
  {
   "cell_type": "code",
   "execution_count": null,
   "metadata": {},
   "outputs": [],
   "source": [
    "N = int(input())\n",
    "matrix = []\n",
    "for _ in range(N):\n",
    "    matrix.append(list(map(int, input().split())))\n",
    "dp =[[0 for _ in range(N)] for _ in range(N)] \n",
    "\n",
    "\n",
    "for i in range(1, N): #몇 번째 대각선?\n",
    "    for j in range(0, N-i): #대각선에서 몇 번째 열?\n",
    "    \n",
    "        if i == 1: #차이가 1밖에 나지 않는 칸\n",
    "            dp[j][j+i] = matrix[j][0] * matrix[j][1] * matrix[j+i][1]\n",
    "            continue\n",
    "        \n",
    "        dp[j][j+i] = 2**32 #최댓값을 미리 넣어줌\n",
    "        for k in range(j, j+i): \n",
    "            dp[j][j+i] = min(dp[j][j+i], \n",
    "                             dp[j][k] + dp[k+1][j+i] + matrix[j][0] * matrix[k][1] * matrix[j+i][1])\n",
    "                \n",
    "    \n",
    "print(dp[0][N-1]) #맨 오른쪽 위"
   ]
  }
 ],
 "metadata": {
  "kernelspec": {
   "display_name": "Python 3",
   "language": "python",
   "name": "python3"
  },
  "language_info": {
   "codemirror_mode": {
    "name": "ipython",
    "version": 3
   },
   "file_extension": ".py",
   "mimetype": "text/x-python",
   "name": "python",
   "nbconvert_exporter": "python",
   "pygments_lexer": "ipython3",
   "version": "3.7.6"
  }
 },
 "nbformat": 4,
 "nbformat_minor": 4
}
