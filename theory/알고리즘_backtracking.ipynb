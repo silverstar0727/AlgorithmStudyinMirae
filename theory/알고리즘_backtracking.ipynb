{
 "cells": [
  {
   "cell_type": "markdown",
   "metadata": {},
   "source": [
    "## backtracking\n",
    "제약 조건 만족문제(Constraint Satisfaction Problem)에서 해를 찾기 위한 전략\n",
    "\n",
    "해당 후보군이 조건을 만족하지 않는다는 판단이 되는 즉시 다시는 그 후보군을 체크하지 않을 것을 표기하는 방식 -> 각 후보군을 DFS방식으로 확인 \n",
    "\n",
    "* promising: 해당 루트가 조건에 맞는지를 검사\n",
    "* pruning: 조건에 맞지않으면 포기하고 다른 루트로 돌아섬 (가지치기)"
   ]
  },
  {
   "cell_type": "markdown",
   "metadata": {},
   "source": [
    "### N Queen\n",
    "n x n 체스판에 n 개의 퀸을 서로 공격할 수 없도록 배치하는 문제\n",
    "#### ex1) Pruning for N Queen문제\n",
    "\n",
    "#### 솔루션 로직\n",
    "1. 맨위에있는 행부터 퀸을 배치\n",
    "2. 다음행에 해당 퀸이 이동할 수 없는 곳을 찾아 배치\n",
    "3. 만약 다음 행에 퀸이 이동할 수 없으면 이전 행의 퀸을 바꿈\n",
    "![image](https://user-images.githubusercontent.com/49096513/90141322-f7892200-ddb5-11ea-803c-987e9d890890.png)\n",
    "\n",
    "\n",
    "=> 맨 위의 행부터 퀸의 배치가 가능한 경우의 수를 상태공간 트리 형태로 만들고 DFS방식으로 접근"
   ]
  },
  {
   "cell_type": "markdown",
   "metadata": {},
   "source": [
    "#### ex2) promising for N Queen 문제\n",
    "#### 솔루션 로직\n",
    "해당 루트가 조건에 맞는지를 검사하는 기법활용\n",
    "![image](https://user-images.githubusercontent.com/49096513/90141209-cc9ece00-ddb5-11ea-9c87-e0ec1dd06313.png)\n",
    "\n",
    "\n",
    "수직체크 & 대각선체크-> 현재까지 앞선 행에서 배치한 퀸이 이동할 수 없는 위치가 있는지를 확인\n",
    "\n",
    "수평은 한 행에 하나만 가능하므로 체크하지 않음"
   ]
  },
  {
   "cell_type": "code",
   "execution_count": 9,
   "metadata": {},
   "outputs": [],
   "source": [
    "# 구현 코드\n",
    "def is_available(candidate, current_col):\n",
    "    current_row = len(candidate)\n",
    "    for queen_row in range(current_row):\n",
    "        if candidate[queen_row] == current_col or abs(candidate[queen_row] \n",
    "                                                      - current_col) == current_row - queen_row:\n",
    "            return False\n",
    "    return True\n",
    "\n",
    "def DFS(n, current_row, current_candidate, final_result):\n",
    "    if current_row == n:\n",
    "        final_result.append(current_candidate[:])\n",
    "        return\n",
    "    \n",
    "    for candidate_col in range(n):\n",
    "        if is_available(current_candidate, candidate_col):\n",
    "            current_candidate.append(candidate_col)\n",
    "            DFS(n, current_row + 1 ,current_candidate, final_result)\n",
    "            current_candidate.pop()\n",
    "            \n",
    "def solve_n_queens(n):\n",
    "    final_result = []\n",
    "    DFS(n, 0, [], final_result)\n",
    "    return final_result"
   ]
  },
  {
   "cell_type": "code",
   "execution_count": 10,
   "metadata": {},
   "outputs": [
    {
     "data": {
      "text/plain": [
       "[[1, 3, 0, 2], [2, 0, 3, 1]]"
      ]
     },
     "execution_count": 10,
     "metadata": {},
     "output_type": "execute_result"
    }
   ],
   "source": [
    "solve_n_queens(4)"
   ]
  }
 ],
 "metadata": {
  "kernelspec": {
   "display_name": "Python 3",
   "language": "python",
   "name": "python3"
  },
  "language_info": {
   "codemirror_mode": {
    "name": "ipython",
    "version": 3
   },
   "file_extension": ".py",
   "mimetype": "text/x-python",
   "name": "python",
   "nbconvert_exporter": "python",
   "pygments_lexer": "ipython3",
   "version": "3.7.6"
  }
 },
 "nbformat": 4,
 "nbformat_minor": 4
}
