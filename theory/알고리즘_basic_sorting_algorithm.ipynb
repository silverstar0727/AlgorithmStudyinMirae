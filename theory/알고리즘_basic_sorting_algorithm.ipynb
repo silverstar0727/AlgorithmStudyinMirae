{
  "nbformat": 4,
  "nbformat_minor": 0,
  "metadata": {
    "colab": {
      "name": "basic sorting algorithm.ipynb",
      "provenance": [],
      "collapsed_sections": []
    },
    "kernelspec": {
      "name": "python3",
      "display_name": "Python 3"
    }
  },
  "cells": [
    {
      "cell_type": "markdown",
      "metadata": {
        "id": "Wb33uGwKxJcD",
        "colab_type": "text"
      },
      "source": [
        "![image](https://user-images.githubusercontent.com/49096513/89770728-209d7e80-db3a-11ea-91b5-adeace2cb8dd.png)\n"
      ]
    },
    {
      "cell_type": "markdown",
      "metadata": {
        "id": "q16hVloxxEo7",
        "colab_type": "text"
      },
      "source": [
        "* 버블정렬(Bubble sort) : 주어진 배열의 마지막 위치에 있는 요소를, 정렬되지 않은 직전 요소부터 첫 요소에 이르기까지 비교해 정렬 순서가 맞지 않은 모든 case에 대해 요소 위치를 바꿔줌. 이를 요소 수만큼 반복. 가장 간단하지만 비효율적인 알고리즘.\n",
        "* 선택정렬(Selection Sort) : 요소 위치 변경 횟수를 줄여 버블정렬을 일부 개선한 알고리즘. 정렬 순서가 맞지 않으면 무조건 자리를 바꿔줬던 버블정렬과 달리, 1회 iteration마다 최소값(혹은 최대값)을 찾고 단 한번만 해당 요소 위치를 바꿔줌.\n",
        "* 삽입정렬(insertion sort) : 모든 요소에 대해 앞에서부터 차례대로 이미 정렬된 배열(sorted list)과 비교하여 sorted list 내 자신의 위치를 찾아 삽입함으로써 정렬을 완성, 입력데이터가 이미 정렬된 상태라면 O(n)의 빠른 속도를 보이지만 그렇지 않은 경우 다른 기법을 적용하는 것이 나음.\n",
        "* 쉘정렬(shell sort) : 정렬되지 않은 배열의 경우 비효율적인 삽입정렬을 개선한 기법. 주어진 배열의 일정 간격(gap)만큼의 요소들에 대해 삽입정렬을 반복 수행.\n",
        "* 합병정렬(merge sort) : 리스트를 잘게 쪼갠 뒤 둘씩 크기를 비교해 정렬하고 분리된 리스트를 재귀적으로 합쳐서 정렬을 완성, 분할된 리스트를 저장해둘 공간이 필요해 메모리 소모량이 큰 편\n",
        "* 힙정렬(heap sort) : 모든 노드가 힙 속성(각 노드의 값이 자신의 자식노드 값보다 큰 이진트리)을 만족하도록 재귀적으로 트리 구조를 만들어 정렬을 완성\n",
        "* 퀵정렬(quick sort) : 피봇값을 기준으로 피봇 앞에는 피봇보다 작은 값, 뒤에는 큰 값이 오도록 하여 리스트를 분할하고, 분할된 두 개 리스트 각각에 재귀적으로 이 과정을 반복해 정렬을 완성. 합병정렬과 달리 주어진 배열을 임의로 나누지 않기 때문에 대개는 효율적이지만, 피봇값이 잘못 선택되면 O(n2)이 될 수도 있음.\n",
        "* 카운팅정렬(counting sort) : 입력값의 빈도를 세어서 이를 결과리스트의 인덱스로 활용, 입력리스트의 요소값을 해당하는 결과리스트 인덱스 위치에 채워 넣는 방식으로 정렬을 완성, 입력리스트의 최대값(k)이 커지면 복잡도가 크게 높아짐\n",
        "* 래딕스정렬(radix sort) : 입력값의 자릿수(d) 각각에 대해 카운팅정렬을 적용해 카운팅정렬의 단점 보완, 예컨대 10진법으로 표현된 입력값에 래딕스정렬을 적용하면 k값이 9로 작아짐\n",
        "* 버킷정렬(bucket sort) : 데이터 개수만큼의 버킷을 두어 데이터를 나누고 버킷별로 정렬한 후 합쳐 정렬을 완성, 데이터 분포가 균등할 경우 계산복잡성을 낮출 수 있으나 그 반대의 경우 효과를 기대하기 어려울 수 있음"
      ]
    },
    {
      "cell_type": "markdown",
      "metadata": {
        "id": "yDmYZHhHNkpO",
        "colab_type": "text"
      },
      "source": [
        "## 버블 정렬\n",
        "앞에있는게 뒤에있는거보다 크면 자리바꿈"
      ]
    },
    {
      "cell_type": "code",
      "metadata": {
        "id": "OBbBBx2rPDy5",
        "colab_type": "code",
        "colab": {}
      },
      "source": [
        "import random\n",
        "data_list = random.sample(range(100), 50)"
      ],
      "execution_count": 2,
      "outputs": []
    },
    {
      "cell_type": "code",
      "metadata": {
        "id": "nRV252BDLRiM",
        "colab_type": "code",
        "colab": {}
      },
      "source": [
        "def bubble_sort(data):\n",
        "  for index in range(len(data_list)): # 데이터의 개수만큼 바꿈\n",
        "    swap = 0 # swap을 초기에 0으로 설정\n",
        "    \n",
        "    for index2 in range(len(data_list) - 1 - index):\n",
        "      if data_list[index2] > data_list[index2 + 1]: # 앞에꺼가 뒤에꺼보다 크면\n",
        "        data_list[index2], data_list[index2 + 1] = data_list[index2 + 1], data_list[index2] # 서로 바꿈\n",
        "        swap += 1 # 스왑수는 증가\n",
        "\n",
        "    if swap == 0:\n",
        "      break\n",
        "  return data_list"
      ],
      "execution_count": 7,
      "outputs": []
    },
    {
      "cell_type": "code",
      "metadata": {
        "id": "AyTkrgkrZEVL",
        "colab_type": "code",
        "colab": {}
      },
      "source": [
        "bubble_sort(data_list)"
      ],
      "execution_count": null,
      "outputs": []
    },
    {
      "cell_type": "markdown",
      "metadata": {
        "id": "EYZoc-CPXEIe",
        "colab_type": "text"
      },
      "source": [
        "시간 복잡도: $O(n^2)$ 최악의 경우에는 ${n(n - 1)} \\over 2$\n",
        "\n",
        "최선-> $O(n)$"
      ]
    },
    {
      "cell_type": "markdown",
      "metadata": {
        "id": "9C_X-VDaZdSH",
        "colab_type": "text"
      },
      "source": [
        "## 삽입정렬\n",
        "2번째부터 시작해서 앞에있는 값들과 비교해서 앞 숫자들 사이에 자신의 자리에 삽입"
      ]
    },
    {
      "cell_type": "code",
      "metadata": {
        "id": "AsriEoy3XbE6",
        "colab_type": "code",
        "colab": {}
      },
      "source": [
        "def insertion_sort(data_list):\n",
        "  for stand in range(len(data_list)):\n",
        "    key = data_list[stand]\n",
        "    for num in range(stand, 0, -1):\n",
        "      if key < data_list[num - 1]:\n",
        "        data_list[num - 1], data_list[num] = data_list[num], data_list[num - 1]\n",
        "      else:\n",
        "        break\n",
        "\n",
        "  return data_list"
      ],
      "execution_count": 10,
      "outputs": []
    },
    {
      "cell_type": "code",
      "metadata": {
        "id": "YCK6pifGXbCg",
        "colab_type": "code",
        "colab": {}
      },
      "source": [
        "from random import * \n",
        "\n",
        "rand_data_list = list()\n",
        "for num in range(10):\n",
        "  rand_data_list.append(randint(1, 100))"
      ],
      "execution_count": 11,
      "outputs": []
    },
    {
      "cell_type": "code",
      "metadata": {
        "id": "fPcc2CrpahGP",
        "colab_type": "code",
        "colab": {}
      },
      "source": [
        "insertion_sort(rand_data_list)"
      ],
      "execution_count": null,
      "outputs": []
    },
    {
      "cell_type": "markdown",
      "metadata": {
        "id": "m5LBNMkeaoXp",
        "colab_type": "text"
      },
      "source": [
        "* 두개의 반복문 -> $O(n^2)$"
      ]
    },
    {
      "cell_type": "markdown",
      "metadata": {
        "id": "KJ37iXuybFjD",
        "colab_type": "text"
      },
      "source": [
        "## 선택정렬\n",
        "데이터에서 최솟값을 찾아서 맨앞으로 바꾸고, 다시 그 데이터를 뺀 나머지에서 최솟값을 찾아서 맨앞으로 바꾸는 형식"
      ]
    },
    {
      "cell_type": "code",
      "metadata": {
        "id": "2HYxAB2wavtk",
        "colab_type": "code",
        "colab": {}
      },
      "source": [
        "def selection_sort(data_list):\n",
        "  for stand in range(len(data_list) - 1):\n",
        "    print(stand)\n",
        "    lowest = stand\n",
        "    \n",
        "    for num in range(stand, len(data_list)):\n",
        "      if data_list[lowest] > data_list[num]:\n",
        "        lowest = num\n",
        "    data_list[stand], data_list[lowest] = data_list[lowest], data_list[stand]\n",
        "\n",
        "  return data_list"
      ],
      "execution_count": 17,
      "outputs": []
    },
    {
      "cell_type": "code",
      "metadata": {
        "id": "HlopELhybtLJ",
        "colab_type": "code",
        "colab": {}
      },
      "source": [
        "import random\n",
        "data_list = random.sample(range(100), 50)"
      ],
      "execution_count": 18,
      "outputs": []
    },
    {
      "cell_type": "code",
      "metadata": {
        "id": "FydoYCJFbxTw",
        "colab_type": "code",
        "colab": {}
      },
      "source": [
        "selection_sort(data_list)"
      ],
      "execution_count": null,
      "outputs": []
    },
    {
      "cell_type": "markdown",
      "metadata": {
        "id": "A28RozH1cAab",
        "colab_type": "text"
      },
      "source": [
        "* 시간복잡도 $O(n^2)%=$"
      ]
    },
    {
      "cell_type": "markdown",
      "metadata": {
        "id": "gLEso5nenHmM",
        "colab_type": "text"
      },
      "source": [
        "## 병합정렬\n",
        "\n",
        "리스트를 절반으로 잘라 비슷한 크기의 두 부분으로 나누고 다시 나누는 것을 반복해서 각부분을 재귀적 방법으로 합병 정렬을 이용하여 정렬한다. 두 부분을 다시 합병하는 것을 반복한다."
      ]
    },
    {
      "cell_type": "code",
      "metadata": {
        "id": "qTo6o7K5rTQp",
        "colab_type": "code",
        "colab": {}
      },
      "source": [
        "def split_func(data_list):\n",
        "  medium = int(len(data_list) / 2)\n",
        "  print(data_list[:medium])\n",
        "  print(data_list[medium:])"
      ],
      "execution_count": 20,
      "outputs": []
    },
    {
      "cell_type": "code",
      "metadata": {
        "id": "GMAWA1WnrecC",
        "colab_type": "code",
        "colab": {}
      },
      "source": [
        "data_list = [1,2,3,4,5]"
      ],
      "execution_count": 21,
      "outputs": []
    },
    {
      "cell_type": "code",
      "metadata": {
        "id": "6r3CQM9XreZ1",
        "colab_type": "code",
        "colab": {
          "base_uri": "https://localhost:8080/",
          "height": 53
        },
        "outputId": "c354a224-1e0e-4616-bb92-6235b6d6320c"
      },
      "source": [
        "split_func(data_list)"
      ],
      "execution_count": 22,
      "outputs": [
        {
          "output_type": "stream",
          "text": [
            "[1, 2]\n",
            "[3, 4, 5]\n"
          ],
          "name": "stdout"
        }
      ]
    },
    {
      "cell_type": "code",
      "metadata": {
        "id": "dvEsTcDprksT",
        "colab_type": "code",
        "colab": {}
      },
      "source": [
        "def mergesplit(data_list):\n",
        "  if len(data_list) == 1:\n",
        "    return data_list\n",
        "\n",
        "  medium = int(len(data_list) / 2)\n",
        "  left = mergesplit(data_list[:medium])\n",
        "  right = mergesplit(data_list[medium:])\n",
        "\n",
        "  return merge(left, right)"
      ],
      "execution_count": 23,
      "outputs": []
    },
    {
      "cell_type": "code",
      "metadata": {
        "id": "oCbRyYiosDlN",
        "colab_type": "code",
        "colab": {}
      },
      "source": [
        "def merge(left, right):\n",
        "  merged = list()\n",
        "  left_point, right_point = 0, 0\n",
        "\n",
        "  # 왼쪽과 오른쪽이 둘다 있을 떄\n",
        "  while len(left) > left_point & len(right) > right_point:\n",
        "    if left[left_point] > right[right_point]:\n",
        "      merged.appened(right[right_point])\n",
        "      right_point += 1\n",
        "    else:\n",
        "      merged.append(left[left_point])\n",
        "      left_point += 1\n",
        "\n",
        "  # 왼쪽이 없을 때\n",
        "  while len(left) > left_point:\n",
        "    merged.append(left[left_point])\n",
        "    left_point += 1\n",
        "\n",
        "  # 둘다 없을 때\n",
        "  while len(right) > right_point:\n",
        "    merged.append(right[right_point])\n",
        "    right_point += 1\n",
        "\n",
        "  return merged"
      ],
      "execution_count": 24,
      "outputs": []
    },
    {
      "cell_type": "code",
      "metadata": {
        "id": "PkkQ_v-NsDgp",
        "colab_type": "code",
        "colab": {
          "base_uri": "https://localhost:8080/",
          "height": 35
        },
        "outputId": "4864c2a6-b94f-4c04-dc75-af8c6934d7ae"
      },
      "source": [
        "mergesplit(data_list)"
      ],
      "execution_count": 25,
      "outputs": [
        {
          "output_type": "execute_result",
          "data": {
            "text/plain": [
              "[1, 2, 3, 4, 5]"
            ]
          },
          "metadata": {
            "tags": []
          },
          "execution_count": 25
        }
      ]
    },
    {
      "cell_type": "markdown",
      "metadata": {
        "id": "HL54MB3Bs9oe",
        "colab_type": "text"
      },
      "source": [
        "## 퀵 정렬\n",
        "기준점(pivot)을 정해서 작은 것은 왼쪽 큰 것을 오른쪽으로 하고 각각에 대해 동일 함수를 재귀를 통해 반복함\n"
      ]
    },
    {
      "cell_type": "code",
      "metadata": {
        "id": "9SkDN5THsylm",
        "colab_type": "code",
        "colab": {
          "base_uri": "https://localhost:8080/",
          "height": 55
        },
        "outputId": "d1b98d40-9fee-410f-b261-5f9023d1959f"
      },
      "source": [
        "import random\n",
        "data_list = random.sample(range(100), 50)\n",
        "\n",
        "left = []\n",
        "right = []\n",
        "pivot = data_list[0]\n",
        "\n",
        "for index in range(1, len(data_list)):\n",
        "  if data_list[index] < pivot:\n",
        "    left.append(data_list[index])\n",
        "  else:\n",
        "    right.append(data_list[index])\n",
        "\n",
        "print(left, pivot, right)"
      ],
      "execution_count": 28,
      "outputs": [
        {
          "output_type": "stream",
          "text": [
            "[34, 15, 44, 8, 7, 10, 37, 2, 11, 29, 26, 42, 17, 22, 41, 1, 32, 13, 6, 28, 23, 20, 16, 9, 36, 25, 0, 18] 45 [70, 68, 80, 51, 97, 88, 65, 64, 90, 57, 61, 62, 48, 98, 76, 53, 46, 74, 66, 59, 94]\n"
          ],
          "name": "stdout"
        }
      ]
    },
    {
      "cell_type": "code",
      "metadata": {
        "id": "5BNHElpLt5Ep",
        "colab_type": "code",
        "colab": {}
      },
      "source": [
        "def quick_sort(data_list):\n",
        "  if len(data_list) <= 1:\n",
        "    return data_list\n",
        "\n",
        "  left, right = [],[]\n",
        "  pivot = data_list[0]\n",
        "\n",
        "  for index in range(1, len(data_list)):\n",
        "    if pivot > data_list[index]:\n",
        "      left.append(data_list[index])\n",
        "    else:\n",
        "      right.append(data_list[index])\n",
        "  return quick_sort(left) + quick_sort(right)"
      ],
      "execution_count": 29,
      "outputs": []
    },
    {
      "cell_type": "code",
      "metadata": {
        "id": "jBRNIHxbuYrc",
        "colab_type": "code",
        "colab": {
          "base_uri": "https://localhost:8080/",
          "height": 35
        },
        "outputId": "50414b83-7c87-403f-9c88-590203875606"
      },
      "source": [
        "quick_sort(data_list)"
      ],
      "execution_count": 30,
      "outputs": [
        {
          "output_type": "execute_result",
          "data": {
            "text/plain": [
              "[0, 6, 9, 13, 16, 18, 25, 28, 32, 36, 41, 46, 53, 59, 62, 66, 74, 94, 98]"
            ]
          },
          "metadata": {
            "tags": []
          },
          "execution_count": 30
        }
      ]
    },
    {
      "cell_type": "code",
      "metadata": {
        "id": "51fUGKVkua-D",
        "colab_type": "code",
        "colab": {}
      },
      "source": [
        "## 더 코드를 깔끔하게 만들기\n",
        "def quicksort(data_list):\n",
        "  if len(data_list) <= 1:\n",
        "    return data_list\n",
        "\n",
        "  pivot = data_list[0]\n",
        "  left, right = [], []\n",
        "\n",
        "  left = [data for data in data_list[1:] if data <= pivot]\n",
        "  right = [data for data in data_list[1:] if data > pivot]\n",
        "\n",
        "  return quicksort(left) + [pivot] + quicksort(right)"
      ],
      "execution_count": 31,
      "outputs": []
    },
    {
      "cell_type": "code",
      "metadata": {
        "id": "cwUzj5a4gFVQ",
        "colab_type": "code",
        "colab": {}
      },
      "source": [
        ""
      ],
      "execution_count": null,
      "outputs": []
    }
  ]
}