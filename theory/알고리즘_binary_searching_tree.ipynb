{
  "nbformat": 4,
  "nbformat_minor": 0,
  "metadata": {
    "colab": {
      "name": "binary_searching_tree_algorithm.ipynb",
      "provenance": [],
      "collapsed_sections": []
    },
    "kernelspec": {
      "name": "python3",
      "display_name": "Python 3"
    }
  },
  "cells": [
    {
      "cell_type": "markdown",
      "metadata": {
        "id": "u9yxH6Lap7Iy",
        "colab_type": "text"
      },
      "source": [
        "# binary searching tree algorithm\n",
        "\n",
        "동적(dynamics)이며 쉽게 구현할 수 있고 정렬할 수 있다는 장점이 있지만, 이미 입력된 자료가 정리가 되어있거나, 작은 값과 큰 값이 번갈아 나오면 시간복잡도가 순차탐색과 같아진다는 단점이 존재한다.\n",
        "\n",
        "오른쪽엔 큰거 왼쪽엔 작은거.. (2개씩)"
      ]
    },
    {
      "cell_type": "code",
      "metadata": {
        "id": "qCXH9dhc3Ocq",
        "colab_type": "code",
        "colab": {}
      },
      "source": [
        "class node: # 각각의 노드에는 key, left, right라는 3개의 값이 주어짐\n",
        "  def __init__(self, key = None, left = None, right = None):\n",
        "    self.key = key \n",
        "    self.left = left\n",
        "    self.right = right\n",
        "\n",
        "class Dict:\n",
        "  x = p = node\n",
        "\n",
        "  z = node(key = 0, left = 0, right = 0) # (0,0,0)\n",
        "  z.left = z # (0,0,0)\n",
        "  z.right = z # (0,0,0)\n",
        "  head = node(key = 0, left = 0, right = z) # (0,0,(0,0,0))\n",
        "\n",
        "  def search(self, search_key):\n",
        "    x = self.head.right # (0,0,0)\n",
        "    while x != self.z:\n",
        "      if x.key == search_key: # 같을 경우 x.key를 반환\n",
        "        return x.key\n",
        "      if x.key > search_key: # x.key가 찾고자하는 search key보다 클경우 왼쪽을 선택\n",
        "        x = x.left\n",
        "      else: # 작을 경우 오른쪽을 선택\n",
        "        x = x.right\n",
        "\n",
        "    return -1\n",
        "\n",
        "  def insert(self, v):\n",
        "    x = p = self.head \n",
        "    \n",
        "    while x != self.z:\n",
        "      p = x\n",
        "      if x.key == v:\n",
        "        return\n",
        "      if x.key > v:\n",
        "        x = x.left\n",
        "      else:\n",
        "        x = x.right\n",
        "\n",
        "    x = node(key = v, left = self.z, right = self.z)\n",
        "    if p.key > v:\n",
        "      p.left = x\n",
        "    else:\n",
        "      p.right = x"
      ],
      "execution_count": null,
      "outputs": []
    },
    {
      "cell_type": "code",
      "metadata": {
        "id": "bvbMa8Hk4nGH",
        "colab_type": "code",
        "colab": {
          "base_uri": "https://localhost:8080/",
          "height": 53
        },
        "outputId": "7fcf3286-826a-4768-caf6-2d0a03865545"
      },
      "source": [
        "import random, time\n",
        "\n",
        "N = 100000\n",
        "\n",
        "key = list(range(1, N + 1))\n",
        "s_key = list(range(1, N + 1))\n",
        "\n",
        "random.shuffle(key)\n",
        "d = Dict()\n",
        "\n",
        "for i in range(N):\n",
        "  d.insert(key[i])\n",
        "\n",
        "start_time = time.time()\n",
        "for i in range(N):\n",
        "  result = d.search(s_key[i])\n",
        "  if (result == -1) | (result != s_key[i]):\n",
        "    print('탐색 오류')\n",
        "\n",
        "end_time = time.time() - start_time\n",
        "\n",
        "print('이진트리 탐색의 실행 시간(N = %d): %0.3f' %(N, end_time))\n",
        "print('탐색 완료')"
      ],
      "execution_count": null,
      "outputs": [
        {
          "output_type": "stream",
          "text": [
            "이진트리 탐색의 실행 시간(N = 1000000): 7.486\n",
            "탐색 완료\n"
          ],
          "name": "stdout"
        }
      ]
    },
    {
      "cell_type": "code",
      "metadata": {
        "id": "XmpEnC4i5cy2",
        "colab_type": "code",
        "colab": {}
      },
      "source": [
        ""
      ],
      "execution_count": null,
      "outputs": []
    }
  ]
}