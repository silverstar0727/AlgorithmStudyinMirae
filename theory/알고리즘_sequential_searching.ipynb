{
  "nbformat": 4,
  "nbformat_minor": 0,
  "metadata": {
    "colab": {
      "name": "sequential_searching_algorithm.ipynb",
      "provenance": []
    },
    "kernelspec": {
      "name": "python3",
      "display_name": "Python 3"
    }
  },
  "cells": [
    {
      "cell_type": "markdown",
      "metadata": {
        "id": "hjPo0PyqCbvt",
        "colab_type": "text"
      },
      "source": [
        "# sequential searching algorithm"
      ]
    },
    {
      "cell_type": "code",
      "metadata": {
        "id": "FQevfZ3ICU_Q",
        "colab_type": "code",
        "colab": {}
      },
      "source": [
        "# 순차적 탐색 알고리즘\n",
        "\n",
        "# 데이터 삽입에 사용되는 class\n",
        "class node:\n",
        "  def __init__(self, key = None):\n",
        "    self.key = key\n",
        "\n",
        "class Dict:\n",
        "  def __init__(self):\n",
        "    Dict.a = []\n",
        "\n",
        "  # 탐색 알고리즘 코드\n",
        "  def search(self, search_key):\n",
        "    i = 0\n",
        "    n = len(Dict.a) # 데이터 개수\n",
        "    \n",
        "    while (i < n) & (Dict.a[i].key != search_key): # 데이터 개수보다 작고, 리스트 원소의 키가 search key랑 같지 않은 경우\n",
        "      i += 1\n",
        "    if i == n:\n",
        "      return -1\n",
        "    else:\n",
        "      return i\n",
        "    \n",
        "  # 데이터 삽입 코드\n",
        "  def insert(self, v):\n",
        "    Dict.a.append(node(v))"
      ],
      "execution_count": null,
      "outputs": []
    },
    {
      "cell_type": "code",
      "metadata": {
        "id": "fOOkiAdmFsKu",
        "colab_type": "code",
        "colab": {
          "base_uri": "https://localhost:8080/",
          "height": 53
        },
        "outputId": "86d5f402-3dc9-4733-f5de-1a39a10bb6ae"
      },
      "source": [
        "# 10000개의 data를 순차탐색하는데에 걸리는 시간\n",
        "import random, time\n",
        "\n",
        "N = 1000\n",
        "\n",
        "# 1부터 n까지의 key값을 부여\n",
        "key = list(range(1, (N + 1)))\n",
        "s_key = list(range(1, (N + 1)))\n",
        "random.shuffle(key) # key를 랜덤하게 섞음\n",
        "\n",
        "d = Dict()\n",
        "for i in range(N): # N 번 반복\n",
        "  d.insert(key[i]) # 랜덤한 값을 v에 입력 > node에서 key를 추출 > Dict.a 리스트에 추가\n",
        "\n",
        "start_time = time.clock()\n",
        "\n",
        "for i in range(N): # i를 0부터 N -1 까지 반복\n",
        "  result = d.search(s_key[i]) # search 메소드에 대한 return 값을 result로 저장, s_key[i] = i+1\n",
        "  if (result == -1) | (key[result] != s_key[i]): \n",
        "    print('탐색 오류')\n",
        "\n",
        "end_time = time.clock() - start_time\n",
        "\n",
        "print('순차 탐색의 실행시간 (N = %d): %0.3f' %(N, end_time))\n",
        "print('탐색 완료')"
      ],
      "execution_count": null,
      "outputs": [
        {
          "output_type": "stream",
          "text": [
            "순차 탐색의 실행시간 (N = 1000): 0.081\n",
            "탐색 완료\n"
          ],
          "name": "stdout"
        }
      ]
    },
    {
      "cell_type": "code",
      "metadata": {
        "id": "uEAW-GTgXVqi",
        "colab_type": "code",
        "colab": {}
      },
      "source": [
        ""
      ],
      "execution_count": null,
      "outputs": []
    }
  ]
}