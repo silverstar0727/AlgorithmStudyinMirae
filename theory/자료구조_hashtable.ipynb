{
  "nbformat": 4,
  "nbformat_minor": 0,
  "metadata": {
    "colab": {
      "name": "자료구조와 알고리즘(Hash Table).ipynb",
      "provenance": [],
      "collapsed_sections": []
    },
    "kernelspec": {
      "name": "python3",
      "display_name": "Python 3"
    }
  },
  "cells": [
    {
      "cell_type": "markdown",
      "metadata": {
        "id": "5iU8u2wwOWXn",
        "colab_type": "text"
      },
      "source": [
        "### 해쉬구조\n",
        "* hash table: 키(key)에 데이터(data)를 저장하는 구조\n",
        "* 파이썬에선 딕셔너리 타입이 대표적인 해쉬구조"
      ]
    },
    {
      "cell_type": "markdown",
      "metadata": {
        "id": "9uRKqnUbOWVU",
        "colab_type": "text"
      },
      "source": [
        "### 용어\n",
        "* 해쉬: 임의 값을 고정 길이로 변환하는 것\n",
        "* 해쉬 테이블: 키 값의 연산에 의해 직접 접근이 가능한 데이터 구조\n",
        "* 해싱 함수: key에 대해 산술 연산을 이용해 데이터 위치를 찾을 수 있는 함수\n",
        "* 해쉬 값(해쉬 주소): key를 해싱 함수로 연산하여 해쉬값을 알아내고, 이를 기반으로 해쉬 테이블에서 key에 대한 데이터 위치를 일관성있게 찾을 수 있음\n",
        "* 슬롯: 한개의 데이터를 저장할 수 있는 공간"
      ]
    },
    {
      "cell_type": "code",
      "metadata": {
        "id": "0CEnJbN6OJxw",
        "colab_type": "code",
        "colab": {
          "base_uri": "https://localhost:8080/",
          "height": 35
        },
        "outputId": "64e3ddb2-63f8-4fc7-e965-24eaab0e619b"
      },
      "source": [
        "# hash table 만들기 \n",
        "hash_table = [i for i in range(10)]\n",
        "hash_table"
      ],
      "execution_count": null,
      "outputs": [
        {
          "output_type": "execute_result",
          "data": {
            "text/plain": [
              "[0, 1, 2, 3, 4, 5, 6, 7, 8, 9]"
            ]
          },
          "metadata": {
            "tags": []
          },
          "execution_count": 6
        }
      ]
    },
    {
      "cell_type": "code",
      "metadata": {
        "id": "YYYPj4BRRmzG",
        "colab_type": "code",
        "colab": {}
      },
      "source": [
        "# 받은 인자를 5로 나눈 나머지를 반환\n",
        "def hash_func(key):\n",
        "  return key % 5"
      ],
      "execution_count": null,
      "outputs": []
    },
    {
      "cell_type": "code",
      "metadata": {
        "id": "b7qbZFveRzzI",
        "colab_type": "code",
        "colab": {
          "base_uri": "https://localhost:8080/",
          "height": 71
        },
        "outputId": "c4d1432d-0d54-431c-da31-381ae933bf8b"
      },
      "source": [
        "data1 = 'Andy'\n",
        "data2 = 'Dave'\n",
        "data3 = 'Trump'\n",
        "data4 = 'Anthor'\n",
        "\n",
        "## ord(): 문자의 아스키코드를 반환하는 함수\n",
        "print(ord(data1[0]), ord(data2[1]), ord(data3[2]))\n",
        "print(ord(data1[0]), hash_func(ord(data1[0])))\n",
        "print(ord(data1[0]), ord(data4[0]))"
      ],
      "execution_count": null,
      "outputs": [
        {
          "output_type": "stream",
          "text": [
            "65 97 117\n",
            "65 0\n",
            "65 65\n"
          ],
          "name": "stdout"
        }
      ]
    },
    {
      "cell_type": "code",
      "metadata": {
        "id": "ZzFxljesJeR7",
        "colab_type": "code",
        "colab": {}
      },
      "source": [
        "def storage_data(data, value): # data와 value의 두개 인자를 받음\n",
        "  key = ord(data[0]) # key에 data의 첫번째 문자 아스키코드를 저장\n",
        "  hash_address = hash_func(key) # hash_address에 아스키 코드를 넣은 나머지를 저장\n",
        "  hash_table[hash_address] = value # hash_table에서 hash_address번째에 해당하는 값을 value로 저장"
      ],
      "execution_count": null,
      "outputs": []
    },
    {
      "cell_type": "code",
      "metadata": {
        "id": "7AjemVckKQYh",
        "colab_type": "code",
        "colab": {}
      },
      "source": [
        "## data저장 hash_table에 차례로 저장됨\n",
        "storage_data('Andy', '01055553333')\n",
        "storage_data('Dave', '01044443333')\n",
        "storage_data('Trump', '01022223333')"
      ],
      "execution_count": null,
      "outputs": []
    },
    {
      "cell_type": "code",
      "metadata": {
        "id": "ixYg-HvXKjEv",
        "colab_type": "code",
        "colab": {}
      },
      "source": [
        "def get_data(data): # data 인자 하나를 받는 함수\n",
        "  key = ord(data[0]) # data의 첫번째 문자를 아스키코드로 저장\n",
        "  hash_address = hash_func(key) # hash_address에 key를 5로 나눈 나머지를 저장\n",
        "  return hash_table[hash_address] # hash_table에서 hash_address에 해당하는 value값을 반환"
      ],
      "execution_count": null,
      "outputs": []
    },
    {
      "cell_type": "code",
      "metadata": {
        "id": "apRyIjHgKwV-",
        "colab_type": "code",
        "colab": {
          "base_uri": "https://localhost:8080/",
          "height": 35
        },
        "outputId": "a24a1b11-586e-45ce-a8c6-3ab8251596ee"
      },
      "source": [
        "get_data('Andy')"
      ],
      "execution_count": null,
      "outputs": [
        {
          "output_type": "execute_result",
          "data": {
            "application/vnd.google.colaboratory.intrinsic": {
              "type": "string"
            },
            "text/plain": [
              "'01055553333'"
            ]
          },
          "metadata": {
            "tags": []
          },
          "execution_count": 12
        }
      ]
    },
    {
      "cell_type": "code",
      "metadata": {
        "id": "XdTXJBM-Kxfo",
        "colab_type": "code",
        "colab": {
          "base_uri": "https://localhost:8080/",
          "height": 35
        },
        "outputId": "9f4590e7-959a-414e-ca6b-8395f51b3b13"
      },
      "source": [
        "hash_table"
      ],
      "execution_count": null,
      "outputs": [
        {
          "output_type": "execute_result",
          "data": {
            "text/plain": [
              "['01055553333', 1, 2, '01044443333', '01022223333', 5, 6, 7, 8, 9]"
            ]
          },
          "metadata": {
            "tags": []
          },
          "execution_count": 14
        }
      ]
    },
    {
      "cell_type": "markdown",
      "metadata": {
        "id": "wY1SwONKLZ8n",
        "colab_type": "text"
      },
      "source": [
        "연습1: 리스트 변수를 활용해서 해쉬 테이블 구현해보기\n",
        "1. 해쉬 함수: key % 8\n",
        "2. 해쉬 키 생성: hash(data)"
      ]
    },
    {
      "cell_type": "code",
      "metadata": {
        "id": "cnNNF0KDLPMa",
        "colab_type": "code",
        "colab": {}
      },
      "source": [
        "hash_table = [0 for i in range(8)]\n",
        "\n",
        "def get_key(data):\n",
        "  return hash(data)\n",
        "\n",
        "def hash_function(key):\n",
        "  return key % 8\n",
        "\n",
        "def save_data(data, value):\n",
        "  hash_address = hash_function(get_key(data))\n",
        "  hash_table[hash_address] = value\n",
        "\n",
        "def read_data(data):\n",
        "  hash_address = hash_function(get_key(data))\n",
        "  return hash_table[hash_address]"
      ],
      "execution_count": null,
      "outputs": []
    },
    {
      "cell_type": "code",
      "metadata": {
        "id": "RSH89nnSPdx5",
        "colab_type": "code",
        "colab": {
          "base_uri": "https://localhost:8080/",
          "height": 35
        },
        "outputId": "0c60c53a-2433-42e1-8b78-9ebbae6552c5"
      },
      "source": [
        "save_data('Dave', '0102030200')\n",
        "save_data('Andy', '01033232200')\n",
        "read_data('Dave')"
      ],
      "execution_count": null,
      "outputs": [
        {
          "output_type": "execute_result",
          "data": {
            "application/vnd.google.colaboratory.intrinsic": {
              "type": "string"
            },
            "text/plain": [
              "'0102030200'"
            ]
          },
          "metadata": {
            "tags": []
          },
          "execution_count": 17
        }
      ]
    },
    {
      "cell_type": "code",
      "metadata": {
        "id": "ye-R0scSPdve",
        "colab_type": "code",
        "colab": {
          "base_uri": "https://localhost:8080/",
          "height": 35
        },
        "outputId": "9b9ca17b-8e7c-42e7-d69d-b7940fb22238"
      },
      "source": [
        "hash_table"
      ],
      "execution_count": null,
      "outputs": [
        {
          "output_type": "execute_result",
          "data": {
            "text/plain": [
              "[0, 0, 0, '0102030200', '01033232200', 0, 0, 0]"
            ]
          },
          "metadata": {
            "tags": []
          },
          "execution_count": 18
        }
      ]
    },
    {
      "cell_type": "markdown",
      "metadata": {
        "id": "90OpmsLqPqfI",
        "colab_type": "text"
      },
      "source": [
        "### hash collision이 일어날 경우\n",
        "* changing 기법을 사용\n",
        "> 링크드 리스트 -> 데이터를 추가로 뒤에 연결함\n",
        "* linear probing 기법을 사용\n",
        "> 충돌이 일어나면 hash address의 다음 address부터 맨 처음 빈공간 부터 저장함 -> 저장공간의 활용도 상승"
      ]
    },
    {
      "cell_type": "markdown",
      "metadata": {
        "id": "UKipt5M5TlaT",
        "colab_type": "text"
      },
      "source": [
        "### 연습2: 연습1의 해쉬 테이블 코드에 Chaining 기법으로 충돌해결 코드를 추가해보기\n",
        "1. 해쉬 함수: key % 8\n",
        "2. 해쉬 키 생성: hash(data)"
      ]
    },
    {
      "cell_type": "code",
      "metadata": {
        "id": "jUsa7sBFTlBM",
        "colab_type": "code",
        "colab": {}
      },
      "source": [
        "hash_table = [0 for i in range(8)]\n",
        "\n",
        "def hash_function(key):\n",
        "  return key % 8\n",
        "\n",
        "def get_key(data):\n",
        "  return hash(data)\n",
        "\n",
        "def save_data(data, value):\n",
        "  index_key = get_key(data) # index_key에 data의 key값을 저장\n",
        "  hash_address = hash_function(index_key) # hash_address에 key의 8로 나눈 나머지를 저장\n",
        "  if hash_table[hash_address] != 0: # hash_table의 hash_address 번째의 값이 0이 아닐경우\n",
        "    for index in range(len(hash_table[hash_address])): # hash_table의 hash_address의 문자 개수만큼 반복\n",
        "      if hash_table[hash_address][index][0] == index_key: # n번째 반복에 해당하는 첫번째 값 = data의 key값일 때\n",
        "        hash_table[hash_address][index][0] = value # 그것을 함수에서 받은 인자인 value로 채움\n",
        "        return hash_table[hash_address].append([index_key, value]) # data의 key값과 value를 hash_table에 추가\n",
        "  \n",
        "  else: # 0일 경우\n",
        "    hash_table[hash_address] = [[index_key, value]] # hash_table의 hash_address번째에 index와 value를 추가\n",
        "\n",
        "def read_data(data):\n",
        "  index_key = get_key(data)\n",
        "  hash_address = hash_function(index_key)\n",
        "  if hash_table[hash_address] != 0:\n",
        "    for index in range(len(hash_table[hash_address])):\n",
        "      if hash_table[hash_address][index][0] == index_key:\n",
        "        return hash_table[hash_address][index][1]\n",
        "    return None\n",
        "  else:\n",
        "    return None\n"
      ],
      "execution_count": null,
      "outputs": []
    },
    {
      "cell_type": "code",
      "metadata": {
        "id": "qaaD1KBZVJNU",
        "colab_type": "code",
        "colab": {
          "base_uri": "https://localhost:8080/",
          "height": 71
        },
        "outputId": "31b090b8-452d-4cbc-f165-ff1f88b9d4cf"
      },
      "source": [
        "print (hash('Dave') % 8)\n",
        "print (hash('Dd') % 8)\n",
        "print (hash('Data') % 8)"
      ],
      "execution_count": null,
      "outputs": [
        {
          "output_type": "stream",
          "text": [
            "3\n",
            "2\n",
            "5\n"
          ],
          "name": "stdout"
        }
      ]
    },
    {
      "cell_type": "code",
      "metadata": {
        "id": "mL2hJpGUVJLX",
        "colab_type": "code",
        "colab": {
          "base_uri": "https://localhost:8080/",
          "height": 35
        },
        "outputId": "f7f5706e-8477-4ee5-e1d2-7be268f4de3a"
      },
      "source": [
        "save_data('Dd', '1201023010')\n",
        "save_data('Data', '3301023010')\n",
        "read_data('Dd')"
      ],
      "execution_count": null,
      "outputs": [
        {
          "output_type": "execute_result",
          "data": {
            "application/vnd.google.colaboratory.intrinsic": {
              "type": "string"
            },
            "text/plain": [
              "'1201023010'"
            ]
          },
          "metadata": {
            "tags": []
          },
          "execution_count": 28
        }
      ]
    },
    {
      "cell_type": "code",
      "metadata": {
        "id": "gL71Xk77VJJW",
        "colab_type": "code",
        "colab": {
          "base_uri": "https://localhost:8080/",
          "height": 161
        },
        "outputId": "4440e8a7-0775-4028-b5fd-e6b9dcc7018c"
      },
      "source": [
        "hash_table"
      ],
      "execution_count": null,
      "outputs": [
        {
          "output_type": "execute_result",
          "data": {
            "text/plain": [
              "[0,\n",
              " 0,\n",
              " [[4497508440914100138, '1201023010']],\n",
              " 0,\n",
              " 0,\n",
              " [[-7890090200130995443, '3301023010']],\n",
              " 0,\n",
              " 0]"
            ]
          },
          "metadata": {
            "tags": []
          },
          "execution_count": 29
        }
      ]
    },
    {
      "cell_type": "markdown",
      "metadata": {
        "id": "msz36HWpfKJg",
        "colab_type": "text"
      },
      "source": [
        "연습3: 연습1의 해쉬 테이블 코드에 Linear Probling 기법으로 충돌해결 코드를 추가해보기\n",
        "1. 해쉬 함수: key % 8\n",
        "2. 해쉬 키 생성: hash(data)"
      ]
    },
    {
      "cell_type": "code",
      "metadata": {
        "id": "bihOvO_wVJHO",
        "colab_type": "code",
        "colab": {}
      },
      "source": [
        "hash_table = [0 for i in range(8)]\n",
        "\n",
        "def get_key(data):\n",
        "  return hash(data)\n",
        "\n",
        "def hash_function(key):\n",
        "  return key % 8\n",
        "\n",
        "def save_data(data, value):\n",
        "  index_key = get_key(data)\n",
        "  hash_address = hash_function(index_key)\n",
        "  if hash_table[hash_address] != 0:\n",
        "    for index in range(hash_address, len(hash_table)):\n",
        "      if hash_table[index] == 0:\n",
        "        hash_table[index] = [index_key, value]\n",
        "        return\n",
        "      elif hash_table[index][0] == index_key:\n",
        "        hash_table[index][1] = value\n",
        "        return\n",
        "  else:\n",
        "    hash_table[hash_address] = [index_key, value]\n",
        "\n",
        "def read_data(data):\n",
        "  index_key = get_key(data)\n",
        "  hash_address = hash_function(index_key)\n",
        "\n",
        "  if hash_table[hash_address] != 0:\n",
        "    for index in range(hash_address, len(hash_table)):\n",
        "      if hash_table[index] == 0:\n",
        "        return None\n",
        "      elif hash_table[index][0] == index_key:\n",
        "        return hash_table[index][1]\n",
        "\n",
        "  else:\n",
        "    return None"
      ],
      "execution_count": null,
      "outputs": []
    },
    {
      "cell_type": "code",
      "metadata": {
        "id": "9viM56P_g_xJ",
        "colab_type": "code",
        "colab": {
          "base_uri": "https://localhost:8080/",
          "height": 71
        },
        "outputId": "1cca1d8d-93d1-4a6d-ff2e-11b4d97ca142"
      },
      "source": [
        "print (hash('dk') % 8)\n",
        "print (hash('da') % 8)\n",
        "print (hash('dc') % 8)"
      ],
      "execution_count": null,
      "outputs": [
        {
          "output_type": "stream",
          "text": [
            "2\n",
            "6\n",
            "0\n"
          ],
          "name": "stdout"
        }
      ]
    },
    {
      "cell_type": "code",
      "metadata": {
        "id": "wIZOy-odkuhN",
        "colab_type": "code",
        "colab": {}
      },
      "source": [
        "save_data('dk', '01200123123')\n",
        "save_data('da', '3333333333')\n",
        "read_data('dc')"
      ],
      "execution_count": null,
      "outputs": []
    },
    {
      "cell_type": "markdown",
      "metadata": {
        "id": "jkvBPIXzkx9C",
        "colab_type": "text"
      },
      "source": [
        "### 시간 복잡도\n",
        "* 일반적인 경우(Collision이 없는 경우)는 O(1)\n",
        "* 최악의 경우(Collision이 모두 발생하는 경우)는 O(n)\n",
        "해쉬 테이블의 경우, 일반적인 경우를 기대하고 만들기 때문에, 시간 복잡도는 O(1) 이라고 말할 수 있음\n",
        "\n",
        "### 검색에서 해쉬 테이블의 사용 예\n",
        "* 16개의 배열에 데이터를 저장하고, 검색할 때 O(n)\n",
        "* 16개의 데이터 저장공간을 가진 위의 해쉬 테이블에 데이터를 저장하고, 검색할 때 O(1)"
      ]
    },
    {
      "cell_type": "code",
      "metadata": {
        "id": "qowd_kFbkuse",
        "colab_type": "code",
        "colab": {}
      },
      "source": [
        ""
      ],
      "execution_count": null,
      "outputs": []
    }
  ]
}