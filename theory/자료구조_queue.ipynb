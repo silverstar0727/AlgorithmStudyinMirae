{
  "nbformat": 4,
  "nbformat_minor": 0,
  "metadata": {
    "colab": {
      "name": "자료구조와 알고리즘(queue).ipynb",
      "provenance": [],
      "collapsed_sections": []
    },
    "kernelspec": {
      "name": "python3",
      "display_name": "Python 3"
    }
  },
  "cells": [
    {
      "cell_type": "markdown",
      "metadata": {
        "id": "q0jkn7q4iFII",
        "colab_type": "text"
      },
      "source": [
        "출처: https://www.fun-coding.org/Chapter05-queue-live.html"
      ]
    },
    {
      "cell_type": "markdown",
      "metadata": {
        "id": "DIrFfKAPhJzy",
        "colab_type": "text"
      },
      "source": [
        "![0001 (1)](https://user-images.githubusercontent.com/49096513/85916598-50940980-b88d-11ea-83df-75186cfc0186.jpg)\n",
        "![0002 (1)](https://user-images.githubusercontent.com/49096513/85916600-512ca000-b88d-11ea-98d5-567051adbbf7.jpg)\n"
      ]
    },
    {
      "cell_type": "markdown",
      "metadata": {
        "id": "aOydhDMSjdZh",
        "colab_type": "text"
      },
      "source": [
        "### FIFO 큐 만들기"
      ]
    },
    {
      "cell_type": "code",
      "metadata": {
        "id": "Cvbt6KXhhI0D",
        "colab_type": "code",
        "colab": {}
      },
      "source": [
        "import queue\n",
        "\n",
        "data_queue = queue.Queue()"
      ],
      "execution_count": null,
      "outputs": []
    },
    {
      "cell_type": "code",
      "metadata": {
        "id": "PJt4PbIPibME",
        "colab_type": "code",
        "colab": {}
      },
      "source": [
        "data_queue.put('funcoding')\n",
        "data_queue.put(1)"
      ],
      "execution_count": null,
      "outputs": []
    },
    {
      "cell_type": "code",
      "metadata": {
        "id": "NPTwYc1jibda",
        "colab_type": "code",
        "colab": {
          "base_uri": "https://localhost:8080/",
          "height": 35
        },
        "outputId": "9a00368b-7c20-49b7-95d4-de2dd79bb246"
      },
      "source": [
        "data_queue.qsize()"
      ],
      "execution_count": null,
      "outputs": [
        {
          "output_type": "execute_result",
          "data": {
            "text/plain": [
              "2"
            ]
          },
          "metadata": {
            "tags": []
          },
          "execution_count": 9
        }
      ]
    },
    {
      "cell_type": "code",
      "metadata": {
        "id": "3mRVXz-pidct",
        "colab_type": "code",
        "colab": {
          "base_uri": "https://localhost:8080/",
          "height": 35
        },
        "outputId": "7edbf2d1-32a9-412b-9595-86c62f041b23"
      },
      "source": [
        "data_queue.get()"
      ],
      "execution_count": null,
      "outputs": [
        {
          "output_type": "execute_result",
          "data": {
            "application/vnd.google.colaboratory.intrinsic": {
              "type": "string"
            },
            "text/plain": [
              "'funcoding'"
            ]
          },
          "metadata": {
            "tags": []
          },
          "execution_count": 10
        }
      ]
    },
    {
      "cell_type": "code",
      "metadata": {
        "id": "uocKWD1jik5T",
        "colab_type": "code",
        "colab": {
          "base_uri": "https://localhost:8080/",
          "height": 35
        },
        "outputId": "cc05d8b1-d32f-47e0-8121-3cb439357680"
      },
      "source": [
        "data_queue.qsize()"
      ],
      "execution_count": null,
      "outputs": [
        {
          "output_type": "execute_result",
          "data": {
            "text/plain": [
              "1"
            ]
          },
          "metadata": {
            "tags": []
          },
          "execution_count": 11
        }
      ]
    },
    {
      "cell_type": "code",
      "metadata": {
        "id": "tVKEAePPjR2w",
        "colab_type": "code",
        "colab": {
          "base_uri": "https://localhost:8080/",
          "height": 35
        },
        "outputId": "e837e903-bdd1-4867-d20b-0988aa73dba2"
      },
      "source": [
        "data_queue.get()"
      ],
      "execution_count": null,
      "outputs": [
        {
          "output_type": "execute_result",
          "data": {
            "text/plain": [
              "1"
            ]
          },
          "metadata": {
            "tags": []
          },
          "execution_count": 12
        }
      ]
    },
    {
      "cell_type": "code",
      "metadata": {
        "id": "wZB5H2-mjZBg",
        "colab_type": "code",
        "colab": {
          "base_uri": "https://localhost:8080/",
          "height": 35
        },
        "outputId": "c0083b8e-418c-41a2-add0-f6a25365f857"
      },
      "source": [
        "data_queue.qsize()"
      ],
      "execution_count": null,
      "outputs": [
        {
          "output_type": "execute_result",
          "data": {
            "text/plain": [
              "0"
            ]
          },
          "metadata": {
            "tags": []
          },
          "execution_count": 13
        }
      ]
    },
    {
      "cell_type": "markdown",
      "metadata": {
        "id": "FvWQ4q7CjoO1",
        "colab_type": "text"
      },
      "source": [
        "### PriorityQueue로 큐 만들기"
      ]
    },
    {
      "cell_type": "code",
      "metadata": {
        "id": "z3tBUCkmjar7",
        "colab_type": "code",
        "colab": {}
      },
      "source": [
        "import queue\n",
        "\n",
        "data_queue = queue.PriorityQueue()"
      ],
      "execution_count": null,
      "outputs": []
    },
    {
      "cell_type": "code",
      "metadata": {
        "id": "GiuVcqmOjx9T",
        "colab_type": "code",
        "colab": {}
      },
      "source": [
        "data_queue.put((10, 'korea'))\n",
        "data_queue.put((5, 1))\n",
        "data_queue.put((15, 'china'))"
      ],
      "execution_count": null,
      "outputs": []
    },
    {
      "cell_type": "code",
      "metadata": {
        "id": "tUrAzgF2j8M1",
        "colab_type": "code",
        "colab": {
          "base_uri": "https://localhost:8080/",
          "height": 35
        },
        "outputId": "779c9155-0d39-407e-ee31-2a31e7409fa2"
      },
      "source": [
        "data_queue.qsize()"
      ],
      "execution_count": null,
      "outputs": [
        {
          "output_type": "execute_result",
          "data": {
            "text/plain": [
              "3"
            ]
          },
          "metadata": {
            "tags": []
          },
          "execution_count": 16
        }
      ]
    },
    {
      "cell_type": "code",
      "metadata": {
        "id": "NfJSkSjUj9hP",
        "colab_type": "code",
        "colab": {
          "base_uri": "https://localhost:8080/",
          "height": 35
        },
        "outputId": "ebb7150c-64b3-455e-bead-7e56c96f7d00"
      },
      "source": [
        "data_queue.get()"
      ],
      "execution_count": null,
      "outputs": [
        {
          "output_type": "execute_result",
          "data": {
            "text/plain": [
              "(5, 1)"
            ]
          },
          "metadata": {
            "tags": []
          },
          "execution_count": 17
        }
      ]
    },
    {
      "cell_type": "code",
      "metadata": {
        "id": "sbI4E-ZtkAMd",
        "colab_type": "code",
        "colab": {
          "base_uri": "https://localhost:8080/",
          "height": 35
        },
        "outputId": "0f00eb78-5821-417d-ffaf-3a2114fd0fc6"
      },
      "source": [
        "data_queue.get()"
      ],
      "execution_count": null,
      "outputs": [
        {
          "output_type": "execute_result",
          "data": {
            "text/plain": [
              "(10, 'korea')"
            ]
          },
          "metadata": {
            "tags": []
          },
          "execution_count": 19
        }
      ]
    },
    {
      "cell_type": "markdown",
      "metadata": {
        "id": "MIb8_W0EkKkt",
        "colab_type": "text"
      },
      "source": [
        "### enqueue, dequeue 구현"
      ]
    },
    {
      "cell_type": "code",
      "metadata": {
        "id": "YNYzhpzjkFQH",
        "colab_type": "code",
        "colab": {}
      },
      "source": [
        "queue_list = list()\n",
        "\n",
        "def enqueue(data):\n",
        "  queue_list.append(data)\n",
        "\n",
        "def dequeue():\n",
        "  data = queue_list[0]\n",
        "  del queue_list[0]\n",
        "\n",
        "  return data"
      ],
      "execution_count": null,
      "outputs": []
    },
    {
      "cell_type": "code",
      "metadata": {
        "id": "lE5XABDAkIkM",
        "colab_type": "code",
        "colab": {}
      },
      "source": [
        "for index in range(10):\n",
        "  enqueue(index)"
      ],
      "execution_count": null,
      "outputs": []
    },
    {
      "cell_type": "code",
      "metadata": {
        "id": "ybUKWKtXkksu",
        "colab_type": "code",
        "colab": {
          "base_uri": "https://localhost:8080/",
          "height": 35
        },
        "outputId": "6b69b272-f318-417c-90a2-b1f0cfa0118a"
      },
      "source": [
        "queue_list"
      ],
      "execution_count": null,
      "outputs": [
        {
          "output_type": "execute_result",
          "data": {
            "text/plain": [
              "[0, 1, 2, 3, 4, 5, 6, 7, 8, 9]"
            ]
          },
          "metadata": {
            "tags": []
          },
          "execution_count": 25
        }
      ]
    },
    {
      "cell_type": "code",
      "metadata": {
        "id": "DbM0eGaoknml",
        "colab_type": "code",
        "colab": {
          "base_uri": "https://localhost:8080/",
          "height": 35
        },
        "outputId": "806af455-87a7-4abb-fafb-7d9ea194c13e"
      },
      "source": [
        "dequeue()"
      ],
      "execution_count": null,
      "outputs": [
        {
          "output_type": "execute_result",
          "data": {
            "text/plain": [
              "0"
            ]
          },
          "metadata": {
            "tags": []
          },
          "execution_count": 26
        }
      ]
    },
    {
      "cell_type": "code",
      "metadata": {
        "id": "uCwZljvVkvei",
        "colab_type": "code",
        "colab": {
          "base_uri": "https://localhost:8080/",
          "height": 35
        },
        "outputId": "66fc5a42-4f04-40f8-f4aa-f93d6653de06"
      },
      "source": [
        "dequeue()"
      ],
      "execution_count": null,
      "outputs": [
        {
          "output_type": "execute_result",
          "data": {
            "text/plain": [
              "1"
            ]
          },
          "metadata": {
            "tags": []
          },
          "execution_count": 27
        }
      ]
    },
    {
      "cell_type": "code",
      "metadata": {
        "id": "he6Tx7YBkxwF",
        "colab_type": "code",
        "colab": {
          "base_uri": "https://localhost:8080/",
          "height": 71
        },
        "outputId": "504bb8b8-f69c-4cce-98f1-c2e5e7eb85c3"
      },
      "source": [
        "for k in range(3):\n",
        "  print(dequeue())"
      ],
      "execution_count": null,
      "outputs": [
        {
          "output_type": "stream",
          "text": [
            "2\n",
            "3\n",
            "4\n"
          ],
          "name": "stdout"
        }
      ]
    },
    {
      "cell_type": "code",
      "metadata": {
        "id": "h6WrFzC9k0y0",
        "colab_type": "code",
        "colab": {}
      },
      "source": [
        ""
      ],
      "execution_count": null,
      "outputs": []
    }
  ]
}
